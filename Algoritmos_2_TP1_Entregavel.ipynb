{
  "nbformat": 4,
  "nbformat_minor": 0,
  "metadata": {
    "colab": {
      "provenance": [],
      "collapsed_sections": [],
      "toc_visible": true,
      "include_colab_link": true
    },
    "kernelspec": {
      "name": "python3",
      "display_name": "Python 3"
    },
    "language_info": {
      "name": "python"
    }
  },
  "cells": [
    {
      "cell_type": "markdown",
      "metadata": {
        "id": "view-in-github",
        "colab_type": "text"
      },
      "source": [
        "<a href=\"https://colab.research.google.com/github/BernnardoSBO/ES-RP-Refactoring/blob/main/Algoritmos_2_TP1_Entregavel.ipynb\" target=\"_parent\"><img src=\"https://colab.research.google.com/assets/colab-badge.svg\" alt=\"Open In Colab\"/></a>"
      ]
    },
    {
      "cell_type": "markdown",
      "source": [
        "#ALGORITMOS II - TRABALHO PRÁTICO 1\n",
        "Bernnardo Seraphim Baptista de Oliveira - 2019006477\n",
        "\n",
        "Michel Barros da Fonseca - 2020006906"
      ],
      "metadata": {
        "id": "3wriocdRvbLi"
      }
    },
    {
      "cell_type": "markdown",
      "source": [
        "##0) Introdução\n",
        "\n",
        "O trabalho prático consiste em aplicar o conhecimento obtido durante as aulas de Algoritmos II.\n",
        "Esse trabalho cobre os seguintes pontos:\n",
        "  - 1 - Implementação do algoritmo da envoltória convexa\n",
        "  - 2 - Implementação do algoritmo de varredura linear e verificação de separabilidade\n",
        "  - 3 - Definição da reta modelo dos dados\n",
        "  - 4 - Construção do Modelo\n",
        "\n",
        "Para navegar facilmente, basta usar o Índice do Google Colab."
      ],
      "metadata": {
        "id": "13aAg2Tv2rIx"
      }
    },
    {
      "cell_type": "markdown",
      "source": [
        "###0.1) Importação\n",
        "\n",
        "Essas são as bibliotecas usadas no desenvolvimento do trabalho"
      ],
      "metadata": {
        "id": "is3hoNmi20Vr"
      }
    },
    {
      "cell_type": "code",
      "source": [
        "import numpy as np\n",
        "import matplotlib.pyplot as plt\n",
        "import math\n",
        "import random\n",
        "import pylab as pl\n",
        "from matplotlib import collections as mc\n",
        "from typing import Union, Tuple\n",
        "import pandas as pd\n",
        "from collections import deque\n",
        "from sklearn.model_selection import train_test_split\n",
        "from sklearn import metrics\n",
        "import seaborn as sns"
      ],
      "metadata": {
        "id": "tpCR6aZA2qvP"
      },
      "execution_count": 665,
      "outputs": []
    },
    {
      "cell_type": "markdown",
      "source": [
        "### 0.2) Configuração de Bibliotecas\n",
        "\n",
        "Caso desejar, você pode mudar a proporção das figuras abaixo."
      ],
      "metadata": {
        "id": "_Zzn6g5v28Ed"
      }
    },
    {
      "cell_type": "code",
      "source": [
        "#plt.rcParams['figure.figsize'] = (20, 13)\n",
        "plt.rcParams['figure.figsize'] = (15, 15)"
      ],
      "metadata": {
        "id": "OfrqmuFA226H"
      },
      "execution_count": 666,
      "outputs": []
    },
    {
      "cell_type": "markdown",
      "source": [
        "## 1) Implementação de algoritmo de envoltória convexa\n",
        "Foi optado o algoritmo de envoltória de Graham, visto que sua complexidade é de $O(n\\log n)$. O uso do algoritmo Marcha de Jarvis foi descartado uma vez que esse algoritmo tem uma complexidade que depende da quantidade de vértices que estão na envoltória, sendo a sua complexidade $O(nh)$. Assim, quanto mais nós estiverem na envoltória, mais o algoritmo se aproxima da complexidade $O(n^2)$. \n",
        "\n",
        "Visto que não sabemos previamente a natureza dos dados que serão utilizados, assim foi feita a escolha de usar o Algoritmo de Graham."
      ],
      "metadata": {
        "id": "_wzs6_GIvPQM"
      }
    },
    {
      "cell_type": "markdown",
      "source": [
        "###1.1) Definição de funções auxiliares\n",
        "\n",
        "É necessário a criação de novas funções e estruturas de dados para auxiliar na implementação do algoritmo e na leitura posterior."
      ],
      "metadata": {
        "id": "5pFOW0CwxGJi"
      }
    },
    {
      "cell_type": "markdown",
      "source": [
        "####Função para ângulo formado o vértice base:\n",
        "\n",
        "A função `slope` retorna o declive entre os pontos `p1` e `p2`. Essa função é usada para computar o primeiro passo do algoritmo de Graham, que é a ordenação dos pontos pelo ângulo em relação ao ponto base."
      ],
      "metadata": {
        "id": "0zcrK1HZxtKb"
      }
    },
    {
      "cell_type": "code",
      "source": [
        "def slope (p1, p2):\n",
        "  if p1[0] == p2[0]:\n",
        "    return float('inf')\n",
        "  else:\n",
        "    return (p1[1] - p2[1]) / (p1[0] - p2[0])"
      ],
      "metadata": {
        "id": "IpBm08wFxF3f"
      },
      "execution_count": 667,
      "outputs": []
    },
    {
      "cell_type": "markdown",
      "source": [
        "####Função para produto vetorial entre dois segmentos que compartilham um vértice\n",
        "\n",
        "A função `cross_product` é usada para calcular se uma reta rotaciona em sentido horário ou anti-horário em relação à outra."
      ],
      "metadata": {
        "id": "V6T3SFxOx1JQ"
      }
    },
    {
      "cell_type": "code",
      "source": [
        "def crossProduct(p0, p1, p2):\n",
        "  edge1 = (p1[0] - p0[0], p1[1] - p0[1])\n",
        "  edge2 = (p2[0] - p0[0], p2[1] - p0[1])\n",
        "\n",
        "  crossP = edge1[0] * edge2[1] - edge1[1] * edge2[0]\n",
        "  return crossP"
      ],
      "metadata": {
        "id": "nUSxsrWYvhhP"
      },
      "execution_count": 668,
      "outputs": []
    },
    {
      "cell_type": "markdown",
      "source": [
        "####Função para gerar amostras em uma distribuição que remeta a um círculo\n",
        "\n",
        "Essas funções foram feitas para fins de teste e exibição visual do algoritmo."
      ],
      "metadata": {
        "id": "guhZ-1Bf51Si"
      }
    },
    {
      "cell_type": "code",
      "source": [
        "def generatePoint(Radius, Center):\n",
        "  r = Radius * math.sqrt(np.random.random())\n",
        "  thetha = np.random.random() * 2 * 3.1419\n",
        "\n",
        "  x = round(Center[0] + r*math.cos(thetha), 2)\n",
        "  y = round(Center[1] + r*math.sin(thetha), 2)\n",
        "\n",
        "  return (x,y)\n",
        "\n",
        "def generateListOfPoints(Radius, Center, Amount):\n",
        "  return [(generatePoint(Radius, Center)) for i in range(Amount)]"
      ],
      "metadata": {
        "id": "wtwVcryh57sY"
      },
      "execution_count": 669,
      "outputs": []
    },
    {
      "cell_type": "markdown",
      "source": [
        "###1.2) Implementação do algoritmo de Graham"
      ],
      "metadata": {
        "id": "71-1bADSyPE6"
      }
    },
    {
      "cell_type": "code",
      "source": [
        "def grahamAlg(points):\n",
        "  \"\"\"Implementação do algoritmo de Graham.\n",
        "  \n",
        "     Definimos uma ordenação baseada primeiramente no valor da coordenada x\n",
        "     a fim de adaptar o algoritmo para o uso da função slope.\n",
        "     Após isso, o ponto inicial é definido da seguinte forma:\n",
        "      - o ponto inicial é o ponto com o menor y.\n",
        "      - caso haja empate na condição acima, o ponto é aquele com menor valor x.\n",
        "    \n",
        "     Agora, ordenamos os pontos com a seguinte hierarquia:\n",
        "     I)   O ângulo formado entre o ponto inicial e o ponto analisado, caso empate\n",
        "     II)  Pontos com maior y primeiro, caso empate\n",
        "     III) Pontos com menor x primeiro.\n",
        "\n",
        "     O caso II) se justifica pois, ao termos uma mesma inclinação, ambos os pontos\n",
        "     estarão em uma mesma reta formada com o ponto inicial. Logo, visto que o \n",
        "     funcionamento do algoritmo prevê que devemos escolher aquele ponto mais distante\n",
        "     do ponto inicial nesses casos, ordenamos dessa maneira pois do jeito que o\n",
        "     algoritmo foi implementado, tomaremos como parte da envoltória o ponto que vem\n",
        "     depois na lista de pontos.\n",
        "\n",
        "  Args:\n",
        "      points (list): a lista com os pontos a serem computados\n",
        "\n",
        "  Returns:\n",
        "      list: a lista com os pontos que formam a envoltória\n",
        "  \"\"\"\n",
        "  points = list(set(points)) #removendo pontos duplicados\n",
        "\n",
        "  pts = points.copy()\n",
        "\n",
        "  #Definimos uma ordenação baseada primeiramente valor da coordenada x\n",
        "  #a fim de adaptar o algoritmo para o uso da função slope \n",
        "  pts.sort(key=lambda x: [x[0], x[1]])\n",
        "\n",
        "  #Definimos o ponto inicial aquele com menor valor de x\n",
        "  startingPoint = pts.pop(0)\n",
        "\n",
        "  #Agora, ordenamos os pontos com a seguinte hierarquia:\n",
        "  # I)   O ângulo formado entre o ponto inicial e o ponto analisado, caso empate\n",
        "  # II)  Pontos com maior y primeiro, caso empate\n",
        "  # III) Pontos com menor x primeiro.\n",
        "\n",
        "  # O caso II) se justifica pois, ao termos uma mesma inclinação, ambos os pontos\n",
        "  # estarão em uma mesma reta formada com o ponto inicial. Logo, visto que o \n",
        "  # funcionamento do algoritmo prevê que devemos escolher aquele ponto mais distante\n",
        "  # do ponto inicial nesses casos, ordenamos dessa maneira pois do jeito que o\n",
        "  # algoritmo foi implementado, tomaremos como parte da envoltória o ponto que vem\n",
        "  # depois na lista de pontos.\n",
        "  pts.sort(key=(lambda x: (slope(x, startingPoint), -x[1], x[0])))\n",
        "\n",
        "  hull = [startingPoint]\n",
        "\n",
        "  hull.append(pts.pop(0))\n",
        "  hull.append(pts.pop(0))\n",
        "\n",
        "  for i in range(len(pts)):\n",
        "    while len(hull) > 2 and crossProduct(hull[-2], hull[-1], pts[i]) < 0:\n",
        "      hull.pop(-1)\n",
        "    hull.append(pts[i])\n",
        "\n",
        "  hull.append(startingPoint)\n",
        "\n",
        "  return hull"
      ],
      "metadata": {
        "id": "6qjd7e8fxppB"
      },
      "execution_count": 670,
      "outputs": []
    },
    {
      "cell_type": "markdown",
      "source": [
        "###1.3) Função para a criação do gráfico"
      ],
      "metadata": {
        "id": "rVLb4CJbeHvv"
      }
    },
    {
      "cell_type": "code",
      "source": [
        "def plotHull(hull, points):\n",
        "  \"\"\"Função que cria um gráfico para a exibição de uma envoltória\n",
        "\n",
        "  Args:\n",
        "      hull (list): pontos da envoltória\n",
        "      points (list): todos os pontos para o gráfico\n",
        "  \"\"\"\n",
        "  xL, yL = zip(*hull)\n",
        "\n",
        "  maxXTick = round(max(xL),1) \n",
        "  minXTick = round(min(xL),1)\n",
        "  stepX = round((maxXTick - minXTick)/20,1)\n",
        "  maxXTick = maxXTick + stepX\n",
        "  minXTick = minXTick - stepX\n",
        "\n",
        "  maxYTick = round(max(yL),1)\n",
        "  minYTick = round(min(yL),1)\n",
        "  stepY = round((maxYTick - minYTick)/20,1)\n",
        "  if stepY == 0:\n",
        "    stepY = 1\n",
        "  maxYTick = maxYTick + stepY\n",
        "  minYTick = minYTick - stepY\n",
        "\n",
        "  plt.xticks(np.arange(minXTick, maxXTick, stepX))\n",
        "  plt.yticks(np.arange(minYTick, maxYTick, stepY))\n",
        "  plt.grid(True)\n",
        "\n",
        "  plt.plot(xL,yL)\n",
        "  plt.scatter([a[0] for a in points], [a[1] for a in points])\n",
        "  for i, j in zip(xL,yL):\n",
        "    plt.text(i, j+stepY/2, '(\\u2245{}, \\u2245{})'.format(round(i,2),round(j,2)))\n",
        "  plt.show()\n",
        "\n",
        "def plotBothHulls(hullA, pointsA, hullB, pointsB):\n",
        "  \"\"\"Função que cria um gráfico para a exibição de duas envoltórias\n",
        "\n",
        "  Args:\n",
        "      hullA (list): pontos da envoltória A\n",
        "      pointsA (list): pontos internos e da envoltória de A\n",
        "      hullB (list): pontos da envoltória B\n",
        "      pointsB (list): pontos internos e da envoltória de B\n",
        "  \"\"\"\n",
        "  axL, ayL = zip(*hullA)\n",
        "  bxL, byL = zip(*hullB)\n",
        "\n",
        "  maxXTick = round(max(max(axL), max(bxL)),1)\n",
        "  minXTick = round(min(min(axL), min(bxL)),1)\n",
        "  stepX = round((maxXTick - minXTick)/20,1)\n",
        "  maxXTick = maxXTick + stepX\n",
        "  minXTick = minXTick - stepX\n",
        "\n",
        "  maxYTick = round(max(max(ayL), max(byL)),1)\n",
        "  minYTick = round(min(min(ayL), min(byL)), 1)\n",
        "  stepY = round((maxYTick - minYTick)/20,1)\n",
        "  if stepY == 0:\n",
        "    stepY = 1\n",
        "  maxYTick = maxYTick + stepY\n",
        "  minYTick = minYTick - stepY\n",
        "\n",
        "  step = round((stepX + stepY)/2,1)\n",
        "\n",
        "  maxTick = max(maxYTick, maxXTick)\n",
        "  minTick = min(minYTick, minXTick)\n",
        "\n",
        "  plt.xticks(np.arange(minTick, maxTick, step))\n",
        "  plt.yticks(np.arange(minTick, maxTick, step))\n",
        "  plt.grid(True)\n",
        "\n",
        "\n",
        "  plt.xlim(minTick, maxTick)\n",
        "  plt.ylim(minTick, maxTick)\n",
        "\n",
        "  plt.plot(axL,ayL)\n",
        "  plt.scatter([i[0] for i in pointsA], [i[1] for i in pointsA])\n",
        "  for i, j in zip(axL,ayL):\n",
        "    plt.text(i, j+stepY/2, '(\\u2245{}, \\u2245{})'.format(round(i,2),round(j,2)))\n",
        "\n",
        "  plt.plot(bxL,byL)\n",
        "  plt.scatter([i[0] for i in pointsB], [i[1] for i in pointsB])\n",
        "  for i, j in zip(bxL,byL):\n",
        "    plt.text(i, j+stepY/2, '(\\u2245{}, \\u2245{})'.format(round(i,2),round(j,2)))\n",
        "\n",
        "  plt.show()"
      ],
      "metadata": {
        "id": "x0UF0_260UoS"
      },
      "execution_count": 671,
      "outputs": []
    },
    {
      "cell_type": "markdown",
      "source": [
        "###1.4) Teste do Algoritmo"
      ],
      "metadata": {
        "id": "2YJZLuFq5hKm"
      }
    },
    {
      "cell_type": "code",
      "source": [
        "listOfPoints = generateListOfPoints(50, (50,50), 100)\n",
        "\n",
        "hull = grahamAlg(listOfPoints)\n",
        "\n",
        "plotHull(hull, listOfPoints)"
      ],
      "metadata": {
        "colab": {
          "base_uri": "https://localhost:8080/",
          "height": 863
        },
        "id": "ry1HvtK35dmX",
        "outputId": "65abb4ef-74ee-4e95-cede-d5d6d1fc4060"
      },
      "execution_count": 672,
      "outputs": [
        {
          "output_type": "display_data",
          "data": {
            "text/plain": [
              "<Figure size 1080x1080 with 1 Axes>"
            ],
            "image/png": "[encoded data removed]"
          },
          "metadata": {
            "needs_background": "light"
          }
        }
      ]
    },
    {
      "cell_type": "markdown",
      "source": [
        "##2) Implementção do Algoritmo de Varredura Linear\n",
        "\n",
        "O algoritmo de varredura linear recebe um conjunto de retas, e verifica se há alguma interseção dentre as retas do conjunto. Usando uma árvore binária balanceada como estrutura de dados base, esse algoritmo possui complexidade de $O(n\\ logn)$ sendo $n$ o número de arestas."
      ],
      "metadata": {
        "id": "yh18AAIW8ppz"
      }
    },
    {
      "cell_type": "markdown",
      "source": [
        "###2.1) Definição de funções e estruturas de dados auxiliares\n",
        "\n",
        "Devido à complexidade de uma implementação eficiente da varredura linear, são necessárias várias estruturas de dados especiais para representar tais objetos de maneira mais compreensível e simples."
      ],
      "metadata": {
        "id": "1aKw6Qeo81yk"
      }
    },
    {
      "cell_type": "markdown",
      "source": [
        "####Classe para ponto"
      ],
      "metadata": {
        "id": "2gUbLiPG9IkF"
      }
    },
    {
      "cell_type": "code",
      "source": [
        "class Point:\n",
        "    \"\"\"Classe responsável por representar um Ponto em um plano R².\"\"\"\n",
        "    def __init__(self, x, y=None):\n",
        "        \"\"\"Cria um objeto Point. Pode receber dois tipos diferentes de chamada:\n",
        "            - recebe uma tupla (x, y)\n",
        "            - recebe x e y como argumentos separados\n",
        "\n",
        "        Args:\n",
        "            x (Union[tuple, float]): O x do ponto. Pode ser uma tupla que representa (x, y) do ponto.\n",
        "            y (float, optional): O y do ponto. Só deve ser passado caso x for um float. Defaults to None.\n",
        "        \"\"\"\n",
        "        self.epsilon = 0.005\n",
        "        if y is not None:\n",
        "            self.x = x\n",
        "            self.y = y\n",
        "        else:\n",
        "            self.x = x[0]\n",
        "            self.y = x[1]\n",
        "        self.isLineStart = False\n",
        "        self.linkedSegment = None\n",
        "\n",
        "    def __lt__(self, other):\n",
        "        \"\"\"Implementa o operador < para a classe Point.\n",
        "           A ordem dos pontos é definida pelo algoritmo de varredura linear:\n",
        "            - ordena por x\n",
        "            - em caso de empate, self é menor se é ponto inicial e other é ponto final\n",
        "            - em caso de empate, ordena de maneira crescente por y\n",
        "\n",
        "        Args:\n",
        "            other (Point): o ponto a ser comparado\n",
        "\n",
        "        Returns:\n",
        "            bool: True se self < other, caso contrário False\n",
        "        \"\"\"\n",
        "        if self.x < other.x:\n",
        "            return True\n",
        "        elif self.x > other.x:\n",
        "            return False\n",
        "\n",
        "        else:\n",
        "            if self.isLineStart and not other.isLineStart:\n",
        "                return True\n",
        "            elif not self.isLineStart and other.isLineStart:\n",
        "                return False\n",
        "            elif self.y < other.y:\n",
        "                return True\n",
        "            else:\n",
        "                if self.y > other.y:\n",
        "                    return False\n",
        "                elif self.isLineStart and other.isLineStart:\n",
        "                    return self.linkedSegment.rhs < other.linkedSegment.rhs\n",
        "                else:\n",
        "                    return False\n",
        "\n",
        "    def __eq__(self, other):\n",
        "        \"\"\"Implementa o operador = para a classe Point\n",
        "\n",
        "        Args:\n",
        "            other (Point): o ponto a ser comparado\n",
        "\n",
        "        Returns:\n",
        "            bool: True se todos os atributos de self forem iguais aos de other, False caso contrário\n",
        "        \"\"\"\n",
        "        if (\n",
        "            self.x == other.x\n",
        "            and self.y == other.y\n",
        "            and self.isLineStart == other.isLineStart\n",
        "            and self.linkedSegment == other.linkedSegment\n",
        "        ):\n",
        "            return True\n",
        "        else:\n",
        "            return False\n",
        "\n",
        "    def __le__(self, other):\n",
        "        \"\"\"Implementa o operador <= para a classe Point\n",
        "\n",
        "        Args:\n",
        "            other (Point): o ponto a ser comparado\n",
        "\n",
        "        Returns:\n",
        "            bool: resultado de __lt__ or __eq__\n",
        "        \"\"\"\n",
        "        if self.__lt__(other) or self.__eq__(other):\n",
        "            return True\n",
        "        else:\n",
        "            return False\n",
        "\n",
        "    def __str__(self):\n",
        "        return f\"({self.x}, {self.y})\"\n",
        "\n",
        "    def __repr__(self):\n",
        "        return f\"({self.x}, {self.y})\"\n",
        "\n",
        "    def disturb(self):\n",
        "        \"\"\"Função responsável por adicionar um pequeno erro a x, para evitar casos especiais.\"\"\"\n",
        "        self.x -= self.epsilon"
      ],
      "metadata": {
        "id": "vC24SDaJ81XB"
      },
      "execution_count": 673,
      "outputs": []
    },
    {
      "cell_type": "markdown",
      "source": [
        "####Classe para equação de reta"
      ],
      "metadata": {
        "id": "AC9ogiFa9hnw"
      }
    },
    {
      "cell_type": "code",
      "source": [
        "class LineEquation:\n",
        "    \"\"\"Classe reponsável por representar uma equação de reta.\"\"\"\n",
        "    def __init__(self, eixo: str, coef_angular: float, coef_linear: float) -> None:\n",
        "        self.eixo = eixo\n",
        "        self.coef_angular = coef_angular\n",
        "        self.coef_linear = coef_linear\n",
        "\n",
        "    def __repr__(self) -> str:\n",
        "        if self.coef_angular != 0:\n",
        "            if self.coef_linear < 0:\n",
        "                return f\"{self.eixo}={self.coef_angular}x{self.coef_linear}\"\n",
        "            return f\"{self.eixo}={self.coef_angular}x+{self.coef_linear}\"\n",
        "        else:\n",
        "            return f\"{self.eixo}={self.coef_linear}\"\n",
        "\n",
        "    def determine_point_location(self, p: Point) -> bool:\n",
        "        \"\"\"Determina se o ponto está acima ou abaixo da reta.\n",
        "\n",
        "        Arguments:\n",
        "          p: Point a ser comparado.\n",
        "\n",
        "        Returns:\n",
        "          bool: True se acima da reta, False caso contrário.\n",
        "        \"\"\"\n",
        "        if self.coef_angular == 0:\n",
        "            if self.eixo == \"y\":\n",
        "                return p.y > self.coef_linear\n",
        "            else:\n",
        "                return p.x > self.coef_linear\n",
        "        else:\n",
        "            y_in_line = (p.x * self.coef_angular) + self.coef_linear\n",
        "            return p.y > y_in_line"
      ],
      "metadata": {
        "id": "o85GYNks9kv1"
      },
      "execution_count": 674,
      "outputs": []
    },
    {
      "cell_type": "markdown",
      "source": [
        "####Classe para linha"
      ],
      "metadata": {
        "id": "ipVFBV9C9SVH"
      }
    },
    {
      "cell_type": "code",
      "source": [
        "class Line:\n",
        "    \"\"\"Classe responsável por representar uma aresta no plano R².\"\"\"\n",
        "    def __init__(self, p1: Point, p2: Point, Class: bool):\n",
        "        sortedPoints = sorted([p1, p2])\n",
        "        # classe é um atributo auxiliar para determinar a envoltória cuja aresta faz parte.\n",
        "        self.Class = Class\n",
        "\n",
        "        # caso ambos os pontos que definem a reta possuem\n",
        "        # o mesmo x, desviamos o primeiro para a esquerda\n",
        "        # por um valor de epsilon\n",
        "        if sortedPoints[0].x == sortedPoints[1].x:\n",
        "            sortedPoints[0].disturb()\n",
        "\n",
        "        self.lhs = sortedPoints[0]\n",
        "        self.lhs.isLineStart = True\n",
        "        self.lhs.linkedSegment = self\n",
        "\n",
        "        self.rhs = sortedPoints[1]\n",
        "        self.rhs.linkedSegment = self\n",
        "\n",
        "    def get_y(self, x):\n",
        "        \"\"\"Retorna o valor de y no ponto x da reta relacionada à aresta.\n",
        "\n",
        "        Args:\n",
        "            x (float): o valor de x a ser baseado\n",
        "\n",
        "        Returns:\n",
        "            float: o valor de y\n",
        "        \"\"\"\n",
        "        if abs(self.lhs.x - self.rhs.x) <= 0:\n",
        "            return self.lhs.y\n",
        "\n",
        "        mySlope = (self.rhs.y - self.lhs.y)/(self.rhs.x - self.lhs.x)\n",
        "        y = mySlope*(x - self.lhs.x) + self.lhs.y\n",
        "\n",
        "        return y\n",
        "\n",
        "    def __lt__(self, other):\n",
        "        \"\"\"Implementa o operador < para a classe Line.\n",
        "           Pega o maior x dentre os menores x dos segmentos,\n",
        "           ou seja, pega o maior ponto de inicio de segmento,\n",
        "           calcula a projeção desse x na outra reta para\n",
        "           determinar se a reta está acima ou abaixo.\n",
        "\n",
        "        Args:\n",
        "            other (Line): a aresta a ser comparada\n",
        "\n",
        "        Returns:\n",
        "            bool: True se a reta está abaixo de other, False caso contrário.\n",
        "        \"\"\"\n",
        "        x = max(min(self.lhs.x, self.rhs.x), min(other.lhs.x, other.rhs.x))\n",
        "\n",
        "        selfY = self.get_y(x)\n",
        "        otherY = other.get_y(x)\n",
        "\n",
        "        if selfY != otherY:\n",
        "          return selfY < otherY\n",
        "\n",
        "        #if both y's are the same, then both lines share the lhs. To find which one is below, we can do a crossProduct between the lines\n",
        "        else:\n",
        "          val = crossProduct((self.lhs.x, self.lhs.y), (other.rhs.x, other.rhs.y), (self.rhs.x, self.rhs.y))\n",
        "          if val > 0:\n",
        "            return False\n",
        "          if val < 0:\n",
        "            return True\n",
        "          else:\n",
        "            return False\n",
        "\n",
        "        #x = self.lhs.x\n",
        "        #otherSlope = (other.rhs.y - other.lhs.y)/(other.rhs.x - other.lhs.x)\n",
        "        #getOtherY = otherSlope*(x - other.lhs.x) + other.lhs.y\n",
        "\n",
        "    def __le__(self, other):\n",
        "        if self.lhs <= other.lhs:\n",
        "            return True\n",
        "        else:\n",
        "            return False\n",
        "\n",
        "    def __repr__(self):\n",
        "        return f\"Line( Class: {1 if not self.Class else 2} | LHS: {self.lhs} | RHS: {self.rhs})\""
      ],
      "metadata": {
        "id": "Sl5_ynX09Vbz"
      },
      "execution_count": 675,
      "outputs": []
    },
    {
      "cell_type": "markdown",
      "source": [
        "####Árvore Rubro-negra\n",
        "\n",
        "Essa estrutura é necessária para a ordenação das arestas na árvore de maneira eficiente. Não entraremos em detalhes de como funciona, mas basicamente:\n",
        " - É uma árvore com operações de inserção, remoção e busca com complexidade $O(log n)$\n",
        " - Reordena automaticamente os nós na inserção e remoção"
      ],
      "metadata": {
        "id": "Ptg7rYQ7KXue"
      }
    },
    {
      "cell_type": "code",
      "source": [
        "class RBNode:\n",
        "    def __init__(self, key=None):\n",
        "        # Color of node:\n",
        "        # True  -> Red\n",
        "        # False -> Black\n",
        "        self.color = True\n",
        "        # Value stored in Node\n",
        "        self.key = key\n",
        "        # Left child\n",
        "        self.leftChild = None\n",
        "        # Right child\n",
        "        self.rightChild = None\n",
        "        # Parent node\n",
        "        self.parent = None\n",
        "\n",
        "    # Setters\n",
        "    # Color\n",
        "    def setColorRed(self):\n",
        "        self.color = True\n",
        "\n",
        "    def setColorBlack(self):\n",
        "        self.color = False\n",
        "\n",
        "    # Children\n",
        "    def setLeftChild(self, lchild):\n",
        "        self.leftChild = lchild\n",
        "\n",
        "    def setRightChild(self, rchild):\n",
        "        self.rightChild = rchild\n",
        "\n",
        "    # Key\n",
        "    def setKey(self, key):\n",
        "        self.key = key\n",
        "\n",
        "    # Getters\n",
        "    # Color\n",
        "    def isRed(self):\n",
        "        return self.color\n",
        "\n",
        "    def isBlack(self):\n",
        "        return not self.color\n",
        "\n",
        "    def getColor(self):\n",
        "        return \"Red\" if self.color else \"Black\"\n",
        "\n",
        "    # Children\n",
        "    def getLeftChild(self, lchild):\n",
        "        return self.leftChild\n",
        "\n",
        "    def getRightChild(self, rchild):\n",
        "        return self.rightChild\n",
        "\n",
        "    # Key\n",
        "    def getKey(self):\n",
        "        return self.key"
      ],
      "metadata": {
        "id": "RK-KN37SKitw"
      },
      "execution_count": 676,
      "outputs": []
    },
    {
      "cell_type": "code",
      "source": [
        "class RBTree:\n",
        "    def __init__(self):\n",
        "        self.nil = RBNode()\n",
        "        self.nil.setColorBlack()\n",
        "        self.nil.setLeftChild(None)\n",
        "        self.nil.setRightChild(None)\n",
        "        self.root = self.nil\n",
        "\n",
        "    def rotateLeft(self, oldParent):\n",
        "        #     ___\n",
        "        #    /   oldParent                                   newParent\n",
        "        #   V   /         \\                                 /         \\\n",
        "        #      a         newParent         ->          oldParent       c\n",
        "        #               /         \\                    /       \\\n",
        "        #              b           c                  a         b\n",
        "        #\n",
        "        # novo pai é o filho direito\n",
        "        newParent = oldParent.rightChild\n",
        "\n",
        "        # o filho direito do pai antigo deixa de ser o pai novo e agora são os filhos esquerdos do pai novo\n",
        "        oldParent.rightChild = newParent.leftChild\n",
        "\n",
        "        # caso o novo filho direito do pai antigo seja diferente de nulo\n",
        "        # definimos que o pai desse filho é o pai antigo\n",
        "        if newParent.leftChild != self.nil:\n",
        "            newParent.leftChild.parent = oldParent\n",
        "\n",
        "        # o pai do novo pai passa a ser o seu avô\n",
        "        newParent.parent = oldParent.parent\n",
        "\n",
        "        # se o avô atribuido ao novo pai como pai seja nulo\n",
        "        # quer dizer que esse novo pai é a raiz\n",
        "        if oldParent.parent == self.nil:\n",
        "            self.root = newParent\n",
        "\n",
        "        # caso não seja nulo, definimos que o novo pai é o filho direito ou\n",
        "        # esquerdo do avô\n",
        "        elif oldParent == oldParent.parent.leftChild:\n",
        "            oldParent.parent.leftChild = newParent\n",
        "        else:\n",
        "            oldParent.parent.rightChild = newParent\n",
        "\n",
        "        # por último, definimos a relação entre o pai novo e o pai antigo\n",
        "        newParent.leftChild = oldParent\n",
        "        oldParent.parent = newParent\n",
        "\n",
        "    def rotateRight(self, oldParent):\n",
        "        #                                                           ___\n",
        "        #       oldParent                                   newParent  \\\n",
        "        #      /         \\                                 /         \\  V\n",
        "        #     a         newParent         <-          oldParent       c\n",
        "        #              /         \\                    /       \\\n",
        "        #             b           c                  a         b\n",
        "        #\n",
        "        newParent = oldParent.leftChild\n",
        "        oldParent.leftChild = newParent.rightChild\n",
        "\n",
        "        if newParent.rightChild != self.nil:\n",
        "            newParent.rightChild.parent = oldParent\n",
        "\n",
        "        newParent.parent = oldParent.parent\n",
        "\n",
        "        if oldParent.parent == self.nil:\n",
        "            self.root = newParent\n",
        "        elif oldParent == oldParent.parent.leftChild:\n",
        "            oldParent.parent.leftChild = newParent\n",
        "        else:\n",
        "            oldParent.parent.rightChild = newParent\n",
        "\n",
        "        newParent.rightChild = oldParent\n",
        "        oldParent.parent = newParent\n",
        "\n",
        "    def insert(self, z):\n",
        "        newNode = RBNode(z)\n",
        "        newNode.leftChild = self.nil\n",
        "        newNode.rightChild = self.nil\n",
        "\n",
        "        # y will act like a temporary parent, anchoring the variable x that will climb up the tree\n",
        "        y = self.nil\n",
        "\n",
        "        # x will be the node that climbs up the tree being compared, so it will act as a child of node y\n",
        "        x = self.root\n",
        "\n",
        "        # while we haven't hit the top of the tree\n",
        "        while x != self.nil:\n",
        "            # y acting as an aux variable, getting the position of parent every iteration\n",
        "            y = x\n",
        "\n",
        "            # determining which direction we'll climb up the tree, which child x is going to be\n",
        "            # climb through left, x now is left child\n",
        "            if newNode.getKey() < x.getKey():\n",
        "                x = x.leftChild\n",
        "            # climb through right, x now is right child\n",
        "            else:\n",
        "                x = x.rightChild\n",
        "\n",
        "        # now that we've already hit a leaf with x, define y as a parent for the newNode\n",
        "        newNode.parent = y\n",
        "\n",
        "        # corner case-> if the tree is empty\n",
        "        if y == self.nil:\n",
        "            self.root = newNode\n",
        "\n",
        "        # if newNode(z) is lower than y, then it is a left child\n",
        "        elif newNode.key < y.key:\n",
        "            y.leftChild = newNode\n",
        "        # otherwise newNode is the right child\n",
        "        else:\n",
        "            y.rightChild = newNode\n",
        "        newNode.leftChild = self.nil\n",
        "        newNode.rightChild = self.nil\n",
        "        newNode.setColorRed()\n",
        "        # -> since we've inserted a red node, we should check whether this new configuration conflicts with the rbtree rules\n",
        "        self.fixInsert(newNode)\n",
        "\n",
        "    def search(self, z):\n",
        "        try:\n",
        "            x = self.root\n",
        "\n",
        "            if x == self.nil:\n",
        "                raise Exception(\"RBTree is empty\")\n",
        "\n",
        "            #        while x != self.nil and z != x.key:\n",
        "            #          if x.key <= z:\n",
        "            #            x = x.rightChild\n",
        "            #          else:\n",
        "            #            x = x.leftChild\n",
        "\n",
        "            while x != self.nil and z != x.key:\n",
        "                #print(\"Comparação:\")\n",
        "                #print(\"Nó   buscado: \", z)\n",
        "                #print(\"Nó comparado: \", x.key)\n",
        "                #if x.key > z:\n",
        "                #    x = x.leftChild\n",
        "                #    print(\"Filho esquerdo escolhido\")\n",
        "                #else:\n",
        "                #    x = x.rightChild\n",
        "                #    print(\"Filho direito escolhido\")\n",
        "\n",
        "                if z < x.key:\n",
        "                  x = x.leftChild\n",
        "                  #print(\"Filho esquerdo escolhido\")\n",
        "                else:\n",
        "                  x = x.rightChild\n",
        "                  #print(\"Filho direito escolhido\")\n",
        "\n",
        "            if x == self.nil:\n",
        "                raise Exception(\"Node doesn't exist in RBTree\")\n",
        "\n",
        "            return x\n",
        "\n",
        "        except Exception as error:\n",
        "            #print(error)\n",
        "            pass\n",
        "\n",
        "    def fixInsert(self, z):\n",
        "        # when inserting a new node, sometimes a conflict with the rbtree\n",
        "        # rules may arise\n",
        "        # Rules:\n",
        "        # 1 -> every node is either red or black\n",
        "        # 2 -> the root is black\n",
        "        # 3 -> every leaf(nil) is black\n",
        "        # 4 -> if a node is red, the both its children are black\n",
        "        # 5 -> for each node, all simple paths from the node to descendant leaves\n",
        "        #      contain the same number of black nodes\n",
        "        #\n",
        "        # in case of insertion, we can actually run into 2 property violations:\n",
        "        #       2nd rule violation: the root is red\n",
        "        #           considering that the tree already complied with the rules before the insert,\n",
        "        #           this case only happens when the newly added node turns out to be the root\n",
        "        #       4th rule violation: a red node has a red child\n",
        "        #           considering that the tree already complied with the rules before the insert,\n",
        "        #           this can only happen when both newNode and newNode.parent are red, since\n",
        "        #           the tree already met with the rules before and newNode children are black by\n",
        "        #           definition (they are self.nil)\n",
        "        while z.parent.isRed():\n",
        "            # if the parent node its the leftChild of the grandParent\n",
        "            if z.parent == z.parent.parent.leftChild:\n",
        "                # define y as z uncle\n",
        "                zUncle = z.parent.parent.rightChild\n",
        "                # if uncle is red just as z, we enter in case 1\n",
        "                if zUncle.isRed():\n",
        "                    z.parent.setColorBlack()\n",
        "                    zUncle.setColorBlack()\n",
        "                    z.parent.parent.setColorRed()\n",
        "                    z = z.parent.parent\n",
        "                else:\n",
        "                    if z == z.parent.rightChild:\n",
        "                        z = z.parent\n",
        "                        self.rotateLeft(z)\n",
        "                    z.parent.setColorBlack()\n",
        "                    z.parent.parent.setColorRed()\n",
        "                    self.rotateRight(z.parent.parent)\n",
        "            else:\n",
        "                # define y as z uncle\n",
        "                zUncle = z.parent.parent.leftChild\n",
        "                # if uncle is red just as z, we enter in case 1\n",
        "                if zUncle.isRed():\n",
        "                    z.parent.setColorBlack()\n",
        "                    zUncle.setColorBlack()\n",
        "                    z.parent.parent.setColorRed()\n",
        "                    z = z.parent.parent\n",
        "                else:\n",
        "                    if z == z.parent.leftChild:\n",
        "                        z = z.parent\n",
        "                        self.rotateRight(z)\n",
        "                    z.parent.setColorBlack()\n",
        "                    z.parent.parent.setColorRed()\n",
        "                    self.rotateLeft(z.parent.parent)\n",
        "        self.root.setColorBlack()\n",
        "\n",
        "    def exclude(self, z):\n",
        "        # buscar nó a ser excluído\n",
        "        zeta = self.search(z)\n",
        "        #print('nó a ser excluido ', zeta)\n",
        "\n",
        "        y = zeta\n",
        "        yColor = y.color\n",
        "\n",
        "        # caso nó a esquerda seja o nil, apenas subimos o nó\n",
        "        # a direita para a posição de nó a ser excluido\n",
        "        #    o                      o\n",
        "        #  /   \\                   / \\\n",
        "        #       z           ->        rest\n",
        "        #     /   \\\n",
        "        #   nil    rest\n",
        "        # 1° Caso) filho esquerdo é nil\n",
        "        if zeta.leftChild == self.nil:\n",
        "            x = zeta.rightChild\n",
        "            self.transplant(zeta, x)\n",
        "\n",
        "            # o mesmo se aplica se nó direito for nil e esquerdo não for\n",
        "            # 2° Caso) filho direito é nil e esquerdo não é\n",
        "        elif zeta.rightChild == self.nil:\n",
        "            x = zeta.leftChild\n",
        "            self.transplant(zeta, x)\n",
        "            # 3° Caso) Nenhum filho é nil\n",
        "            #   no 3° caso, temos que verificar duas possibilidads\n",
        "            #       a) nó filho direito é o menor valor\n",
        "            #       b) nó filho direito não é o menor valor\n",
        "        else:\n",
        "            # achar o minimo na subarvore direita\n",
        "            y = self.treeMinimum(zeta.rightChild)\n",
        "\n",
        "            # definimos novamente a cor original do y a ser colocado na posição do excluido\n",
        "            yColor = y.color\n",
        "\n",
        "            # usamos x para trocar de posição com y\n",
        "            x = y.rightChild\n",
        "\n",
        "            if y.parent == zeta:\n",
        "                x.parent = y\n",
        "            else:\n",
        "\n",
        "                # x vai para o lugar do nó que vai ser trocado\n",
        "                # note que não precisamos nos preocupar com o filho esquerdo de y pois y já é o nó mais a esquerda da subarvore\n",
        "                self.transplant(y, x)\n",
        "\n",
        "                # definimos que o filho direito do excluido agora é filho de y\n",
        "                y.rightChild = zeta.rightChild\n",
        "                y.rightChild.parent = y\n",
        "\n",
        "            # esse transplant vai apenas setar o pai do excluido como agora pai de y\n",
        "            self.transplant(zeta, y)\n",
        "\n",
        "            # definimos agora a relação com o filho esquerdo de z para o y\n",
        "            y.leftChild = zeta.leftChild\n",
        "            y.leftChild.parent = y\n",
        "\n",
        "            # substituimos a cor para a cor que estava em z antes, assim não geramos conflito\n",
        "            y.color = zeta.color\n",
        "\n",
        "        if yColor == False:\n",
        "            self.fixDelete(x)\n",
        "\n",
        "    def treeMinimum(self, z):\n",
        "        x = z\n",
        "        while x.leftChild != self.nil:\n",
        "            x = x.leftChild\n",
        "        return x\n",
        "\n",
        "    def treeMaximum(self, z):\n",
        "        x = z\n",
        "        while x.rightChild != self.nil:\n",
        "\n",
        "            x = x.rightChild\n",
        "        return x\n",
        "\n",
        "    def below(self, z):\n",
        "        x = self.search(z)\n",
        "\n",
        "        if x.leftChild != self.nil:\n",
        "            return self.treeMaximum(x.leftChild)\n",
        "\n",
        "        y = x.parent\n",
        "\n",
        "        while y != self.nil and x == y.leftChild:\n",
        "            x = y\n",
        "            y = x.parent\n",
        "\n",
        "        return y\n",
        "\n",
        "    def above(self, z):\n",
        "        x = self.search(z)\n",
        "        if x.rightChild != self.nil:\n",
        "            return self.treeMinimum(x.rightChild)\n",
        "\n",
        "        y = x.parent\n",
        "\n",
        "        while y != self.nil and x == y.rightChild:\n",
        "            x = y\n",
        "            y = x.parent\n",
        "\n",
        "        return y\n",
        "\n",
        "    def transplant(self, u, v):\n",
        "        # essa função lida apenas com a relação entre o nó\n",
        "        # a ser transplantado e o nó pai do que está sendo\n",
        "        # excluido\n",
        "\n",
        "        # se o nó pai do nó a ser excluído é o nil, significa\n",
        "        # que o nó a ser excluido é a raiz, logo definimos\n",
        "        # que o nó a ser transplantado ocupara a raiz da RBTree\n",
        "        if u.parent == self.nil:\n",
        "            self.root = v\n",
        "\n",
        "        # no else e no elif definimos em qual posição o nó\n",
        "        # a ser transplantado vai ocupar em relaçao ao pai\n",
        "        # ou seja, filho esquerdo ou direito\n",
        "        elif u == u.parent.leftChild:\n",
        "            u.parent.leftChild = v\n",
        "        else:\n",
        "            u.parent.rightChild = v\n",
        "\n",
        "        # por ultimo alteramos o pai do nó transplantado para\n",
        "        # o pai definido para u\n",
        "        v.parent = u.parent\n",
        "\n",
        "    def fixDelete(self, x):\n",
        "        while x != self.root and x.color == False:\n",
        "            if x == x.parent.leftChild:\n",
        "                w = x.parent.rightChild\n",
        "\n",
        "                if w.color == True:\n",
        "                    w.color == False\n",
        "                    x.parent.color = True\n",
        "                    self.rotateLeft(x.parent)\n",
        "                    w = x.parent.rightChild\n",
        "\n",
        "                if w.leftChild.color == False and w.rightChild.color == False:\n",
        "                    w.color = True\n",
        "                    x = x.parent\n",
        "\n",
        "                else:\n",
        "                    if w.rightChild.color == False:\n",
        "                        w.leftChild.color = False\n",
        "                        w.color = True\n",
        "                        self.rotateRight(w)\n",
        "                        w = x.parent.rightChild\n",
        "\n",
        "                    w.color = x.parent.color\n",
        "                    x.parent.color = False\n",
        "                    w.rightChild.color = False\n",
        "                    self.rotateLeft(x.parent)\n",
        "                    x = self.root\n",
        "            else:\n",
        "                w = x.parent.leftChild\n",
        "\n",
        "                if w.color == True:\n",
        "                    w.color = False\n",
        "                    x.parent.color = True\n",
        "                    self.rotateRight(x.parent)\n",
        "                    w = x.parent.leftChild\n",
        "\n",
        "                if w.rightChild.color == False and w.leftChild.color == False:\n",
        "                    w.color = True\n",
        "                    x = x.parent\n",
        "\n",
        "                else:\n",
        "                    if w.leftChild.color == False:\n",
        "                        w.rightChild.color = False\n",
        "                        w.color = True\n",
        "                        self.rotateLeft(w)\n",
        "                        w = x.parent.leftChild\n",
        "\n",
        "                    w.color = x.parent.color\n",
        "                    x.parent.color = False\n",
        "                    w.leftChild.color = False\n",
        "                    self.rotateRight(x.parent)\n",
        "                    x = self.root\n",
        "\n",
        "        x.color = False"
      ],
      "metadata": {
        "id": "kjfttsoEKWt8"
      },
      "execution_count": 677,
      "outputs": []
    },
    {
      "cell_type": "markdown",
      "source": [
        "####Função para pegar eventos para o algoritmo rodar"
      ],
      "metadata": {
        "id": "mgkoor7s-jJv"
      }
    },
    {
      "cell_type": "code",
      "source": [
        "def getEvents(lines):\n",
        "    \"\"\"Pega os extremos de todas as arestas e os retorna em ordem.\n",
        "\n",
        "    Args:\n",
        "        lines (List[Line]): lista de linhas a serem verificadas\n",
        "\n",
        "    Returns:\n",
        "        list: lista com os pontos\n",
        "    \"\"\"\n",
        "    events = []\n",
        "    for line in lines:\n",
        "        events.append(line.lhs)\n",
        "        events.append(line.rhs)\n",
        "    # sort events based on their x\n",
        "    events.sort(key=lambda x: (x.x, x.y))\n",
        "    return events"
      ],
      "metadata": {
        "id": "-8akaDz9-iE_"
      },
      "execution_count": 678,
      "outputs": []
    },
    {
      "cell_type": "markdown",
      "source": [
        "####Função para detectar interseções entre segmentos"
      ],
      "metadata": {
        "id": "gH-7D0oXhxbT"
      }
    },
    {
      "cell_type": "code",
      "source": [
        "def onSegment(a, b, c):\n",
        "    \"\"\"Função responsável por verificar se três pontos são colineares.\n",
        "\n",
        "    Args:\n",
        "        a (Tuple[float, float]): ponto a ser comparado\n",
        "        b (Tuple[float, float]): ponto a ser comparado\n",
        "        c (Tuple[float, float]): ponto a ser comparado\n",
        "\n",
        "    Returns:\n",
        "        bool: True se os três pontos forem colineares, False caso contrário.\n",
        "    \"\"\"\n",
        "    if min(a[0], b[0]) <= c[0] <= max(a[0], b[0]) and min(a[1], b[1]) <= c[1] <= max(\n",
        "        a[1], b[1]\n",
        "    ):\n",
        "        return True\n",
        "    else:\n",
        "        return False\n",
        "\n",
        "\n",
        "# x and y are pairs of coordinates defining the vector\n",
        "# x = ((a1,a2), (b1,b2))\n",
        "# y = ((c1,c2), (d1,d2))\n",
        "def intersects(a, b):\n",
        "    \"\"\"Função responsável por determinar se duas retas se interceptam.\n",
        "\n",
        "    Args:\n",
        "        a (Line): linha a ser comparada\n",
        "        b (Line): linha a ser comparada\n",
        "\n",
        "    Returns:\n",
        "        bool: True se as linhas se interceptam, False caso contrário\n",
        "    \"\"\"\n",
        "    x = ((a.lhs.x, a.lhs.y), (a.rhs.x, a.rhs.y))\n",
        "    y = ((b.lhs.x, b.lhs.y), (b.rhs.x, b.rhs.y))\n",
        "\n",
        "    d1 = crossProduct(x[0], x[1], y[0])\n",
        "    d2 = crossProduct(x[0], x[1], y[1])\n",
        "    d3 = crossProduct(y[0], y[1], x[0])\n",
        "    d4 = crossProduct(y[0], y[1], x[1])\n",
        "\n",
        "    if ((d1 > 0 and d2 < 0) or (d1 < 0 and d2 > 0)) and (\n",
        "        (d3 > 0 and d4 < 0) or (d3 < 0 and d4 > 0)\n",
        "    ):\n",
        "        return True\n",
        "    elif d1 == 0 and onSegment(x[0], x[1], y[0]):\n",
        "        return True\n",
        "    elif d2 == 0 and onSegment(x[0], x[1], y[1]):\n",
        "        return True\n",
        "    elif d3 == 0 and onSegment(y[0], y[1], x[0]):\n",
        "        return True\n",
        "    elif d4 == 0 and onSegment(y[0], y[1], x[1]):\n",
        "        return True\n",
        "\n",
        "    return False"
      ],
      "metadata": {
        "id": "ORaVChjfhaLR"
      },
      "execution_count": 679,
      "outputs": []
    },
    {
      "cell_type": "markdown",
      "source": [
        "####Função para verificar se um ponto está dentro ou não de um polígono"
      ],
      "metadata": {
        "id": "LfXxs6kF0tkp"
      }
    },
    {
      "cell_type": "code",
      "source": [
        "def isInsidePolygon(point, hullVertices):\n",
        "    \"\"\"Determina se um ponto está dentro de um polígono.\n",
        "\n",
        "    Args:\n",
        "        point (Point): o ponto a ser verificado\n",
        "        hullVertices (list): Lista de arestas que compõem o polígono\n",
        "\n",
        "    Returns:\n",
        "        bool: True caso estiver dentro de um polígono, False caso contrário\n",
        "    \"\"\"\n",
        "    infPoint = Point((point.x, float(\"inf\")))\n",
        "\n",
        "    l1 = Line(point, infPoint, True)\n",
        "\n",
        "    listOfLines = []\n",
        "    for i in range(len(hullVertices) - 1):\n",
        "        line = Line(Point(hullVertices[i]), Point(hullVertices[i + 1]), True)\n",
        "        listOfLines.append(line)\n",
        "\n",
        "    intersectingCounter = 0\n",
        "    for i in listOfLines:\n",
        "        if intersects(l1, i):\n",
        "            intersectingCounter += 1\n",
        "\n",
        "    if intersectingCounter % 2 == 0:\n",
        "        return False\n",
        "    else:\n",
        "        return True"
      ],
      "metadata": {
        "id": "95-sf_2g0y0T"
      },
      "execution_count": 680,
      "outputs": []
    },
    {
      "cell_type": "markdown",
      "source": [
        "###2.2) Algoritmo de Varredura Linear\n"
      ],
      "metadata": {
        "id": "1y-mjLhlhayj"
      }
    },
    {
      "cell_type": "code",
      "source": [
        "def AnySegmentIntersect(events):\n",
        "    \"\"\"Determina se há alguma interseção entre algum par de arestas de classes diferentes em um conjunto.\n",
        "\n",
        "    Args:\n",
        "        events (List[Point]): Lista de pontos extremos das arestas.\n",
        "\n",
        "    Returns:\n",
        "        bool: True se há alguma interseção, False caso contrário.\n",
        "    \"\"\"\n",
        "    sweepLine = RBTree()\n",
        "    for i in events:\n",
        "        if i.isLineStart:\n",
        "            #print('LINE START')\n",
        "            #print('LineStarting: ', i.linkedSegment)\n",
        "            sweepLine.insert(i.linkedSegment)\n",
        "            lineOfI = i.linkedSegment\n",
        "            # tratar quando arvore não tem above nem below\n",
        "            try:\n",
        "                lineAbove = sweepLine.above(i.linkedSegment).key\n",
        "                #print('ABOVE: ', lineAbove)\n",
        "                if lineAbove.Class != i.linkedSegment.Class and intersects(\n",
        "                    lineAbove, lineOfI\n",
        "                ):\n",
        "                    #print('################################################\\n####################################')\n",
        "                    return True\n",
        "            except AttributeError as err:\n",
        "                #print('ABOVE - Attribute Error: ', err)\n",
        "                pass\n",
        "            except Exception as e:\n",
        "                #print('ABOVE - Exception: ', e)\n",
        "                pass\n",
        "\n",
        "            try:\n",
        "                lineBelow = sweepLine.below(i.linkedSegment).key\n",
        "                #print('BELOW: ',lineBelow)\n",
        "                if lineBelow.Class != i.linkedSegment.Class and intersects(\n",
        "                    lineBelow, lineOfI\n",
        "                ):\n",
        "                    #print('################################################\\n####################################')\n",
        "                    return True\n",
        "            except AttributeError as err:\n",
        "                #print('BELOW - Attribute Error: ', err)\n",
        "                #print(traceback.format_exc())\n",
        "                pass\n",
        "            except Exception as e:\n",
        "                #print('BELOW - Exception at Above: ',e)\n",
        "                #print(traceback.format_exc())\n",
        "                pass\n",
        "\n",
        "        if not i.isLineStart:\n",
        "            iLine = i.linkedSegment\n",
        "            #print('LINE END')\n",
        "            #print('LineEnding: ', iLine)\n",
        "\n",
        "            try:\n",
        "                lineAbove = sweepLine.above(i.linkedSegment).key\n",
        "                #print('ABOVE: ', lineAbove)\n",
        "                lineBelow = sweepLine.below(i.linkedSegment).key\n",
        "                #print('BELOW: ',lineBelow)\n",
        "                lineOfI = i.linkedSegment\n",
        "                if lineAbove.Class != lineBelow.Class and intersects(\n",
        "                    lineAbove, lineBelow\n",
        "                ):\n",
        "                    #print('################################################\\n####################################')\n",
        "                    return True\n",
        "            except AttributeError as err:\n",
        "                #print('Attribute Error', err)\n",
        "                pass\n",
        "            except Exception as e:\n",
        "                #print(e)\n",
        "                pass\n",
        "            #sweepLine.print_tree(True)\n",
        "            #print('\\n\\n--------', sweepLine.root.leftChild.key, '-------\\n\\n')\n",
        "            sweepLine.exclude(i.linkedSegment)\n",
        "        #print('\\n')\n",
        "    #print(\"arvore no final:\")\n",
        "    #sweepLine.print_tree(True)\n",
        "    return False"
      ],
      "metadata": {
        "id": "GbkR5pW-hm8Y"
      },
      "execution_count": 681,
      "outputs": []
    },
    {
      "cell_type": "markdown",
      "source": [
        "##3) Algoritmo de Verificação de separabilidade"
      ],
      "metadata": {
        "id": "w87dNny20g0M"
      }
    },
    {
      "cell_type": "code",
      "source": [
        "def separability(hullA, ClassA, hullB, ClassB):\n",
        "    \"\"\"Função mais abrangente que usa o algoritmo de varredura linear\n",
        "       e a verificação se a envoltória está dentro de um polígono\n",
        "       para determinar a separabilidade linear entre duas envoltórias\n",
        "       convexas.\n",
        "\n",
        "    Args:\n",
        "        hullA (list): lista de pontos que compõem a envoltória A\n",
        "        ClassA (bool): classe dos pontos de A\n",
        "        hullB (list): lista de pontos que compõem a envoltória B\n",
        "        ClassB (bool): classe dos pontos de B\n",
        "\n",
        "    Returns:\n",
        "        bool: True se for separáve, False caso contrário.\n",
        "    \"\"\"\n",
        "    listOfLinesA = []\n",
        "    for i in range(len(hullA) - 1):\n",
        "        line = Line(Point(hullA[i]), Point(hullA[i + 1]), False)\n",
        "        listOfLinesA.append(line)\n",
        "\n",
        "    listOfLinesB = []\n",
        "    for i in range(len(hullB) - 1):\n",
        "        line = Line(Point(hullB[i]), Point(hullB[i + 1]), True)\n",
        "        listOfLinesB.append(line)\n",
        "\n",
        "    totalLines = listOfLinesA + listOfLinesB\n",
        "    events = getEvents(totalLines)\n",
        "\n",
        "    if AnySegmentIntersect(events):\n",
        "        return False\n",
        "    elif isInsidePolygon(listOfLinesA[0].lhs, hullB):\n",
        "        return False\n",
        "    elif isInsidePolygon(listOfLinesB[0].lhs, hullA):\n",
        "        return False\n",
        "    else:\n",
        "        return True"
      ],
      "metadata": {
        "id": "B9aueX7qiISo"
      },
      "execution_count": 682,
      "outputs": []
    },
    {
      "cell_type": "markdown",
      "source": [
        "###3.1) Exemplo de funcionamento do algoritmo"
      ],
      "metadata": {
        "id": "ik2WMDUsnnmY"
      }
    },
    {
      "cell_type": "markdown",
      "source": [
        "####3.1.1) Envoltórias que se interceptam"
      ],
      "metadata": {
        "id": "QZ1Wj7aG1sIj"
      }
    },
    {
      "cell_type": "code",
      "source": [
        "ClassA = generateListOfPoints(8, (20,30), 10)\n",
        "ClassB = generateListOfPoints(8, (24,32), 10)\n",
        "\n",
        "hullA = grahamAlg(ClassA)\n",
        "hullB = grahamAlg(ClassB)\n",
        "\n",
        "plotBothHulls(hullA, ClassA, hullB, ClassB)"
      ],
      "metadata": {
        "colab": {
          "base_uri": "https://localhost:8080/",
          "height": 863
        },
        "id": "-vRfpjhUnwcM",
        "outputId": "4c27c72e-7c08-47ea-cf9b-6dfe2d438cbc"
      },
      "execution_count": 683,
      "outputs": [
        {
          "output_type": "display_data",
          "data": {
            "text/plain": [
              "<Figure size 1080x1080 with 1 Axes>"
            ],
            "image/png": "[encoded data removed]"
          },
          "metadata": {
            "needs_background": "light"
          }
        }
      ]
    },
    {
      "cell_type": "code",
      "source": [
        "separability(hullA, ClassA, hullB, ClassB)"
      ],
      "metadata": {
        "colab": {
          "base_uri": "https://localhost:8080/"
        },
        "id": "p14LUHIiwVaB",
        "outputId": "fefccab7-7cb6-46dd-db04-80934ea14be2"
      },
      "execution_count": 684,
      "outputs": [
        {
          "output_type": "execute_result",
          "data": {
            "text/plain": [
              "False"
            ]
          },
          "metadata": {},
          "execution_count": 684
        }
      ]
    },
    {
      "cell_type": "markdown",
      "source": [
        "####3.1.2) Envoltórias que não se interceptam"
      ],
      "metadata": {
        "id": "4c1FESqB1y9J"
      }
    },
    {
      "cell_type": "code",
      "source": [
        "ClassA = generateListOfPoints(8, (20,30), 10)\n",
        "ClassB = generateListOfPoints(8, (82,32), 10)\n",
        "\n",
        "hullA = grahamAlg(ClassA)\n",
        "hullB = grahamAlg(ClassB)\n",
        "\n",
        "plotBothHulls(hullA, ClassA, hullB, ClassB)"
      ],
      "metadata": {
        "colab": {
          "base_uri": "https://localhost:8080/",
          "height": 863
        },
        "id": "aCdSibI9xjx8",
        "outputId": "2e26536f-fa50-4d56-ad19-3c1e939efd0c"
      },
      "execution_count": 685,
      "outputs": [
        {
          "output_type": "display_data",
          "data": {
            "text/plain": [
              "<Figure size 1080x1080 with 1 Axes>"
            ],
            "image/png": "[encoded data removed]"
          },
          "metadata": {
            "needs_background": "light"
          }
        }
      ]
    },
    {
      "cell_type": "code",
      "source": [
        "ClassA[:5]"
      ],
      "metadata": {
        "colab": {
          "base_uri": "https://localhost:8080/"
        },
        "id": "iWmOLKljJ5xn",
        "outputId": "c3e96b64-03dd-4e95-9c29-bbded9026800"
      },
      "execution_count": 686,
      "outputs": [
        {
          "output_type": "execute_result",
          "data": {
            "text/plain": [
              "[(19.25, 25.04), (20.16, 23.96), (27.32, 32.09), (17.12, 35.11), (15.23, 31.2)]"
            ]
          },
          "metadata": {},
          "execution_count": 686
        }
      ]
    },
    {
      "cell_type": "code",
      "source": [
        "separability(hullA, ClassA, hullB, ClassB)"
      ],
      "metadata": {
        "colab": {
          "base_uri": "https://localhost:8080/"
        },
        "id": "VJf6_EPZxl6z",
        "outputId": "c73b4375-be9a-432c-847d-93c397aed020"
      },
      "execution_count": 687,
      "outputs": [
        {
          "output_type": "execute_result",
          "data": {
            "text/plain": [
              "True"
            ]
          },
          "metadata": {},
          "execution_count": 687
        }
      ]
    },
    {
      "cell_type": "markdown",
      "source": [
        "##4) Definição da reta modelo"
      ],
      "metadata": {
        "id": "xg2EolDX14lp"
      }
    },
    {
      "cell_type": "markdown",
      "source": [
        "###4.1) Determinando os pontos mais pŕoximos das envoltórias"
      ],
      "metadata": {
        "id": "vMAOUAEZ2FSJ"
      }
    },
    {
      "cell_type": "code",
      "source": [
        "def euclidean_distance(p1, p2) -> float:\n",
        "    \"\"\"Calcula a distância euclideana entre dois pontos.\n",
        "\n",
        "    Arguments:\n",
        "      p1: tuple com as coordenadas x e y nessa ordem.\n",
        "      p2: tuple com as coordenadas x e y nessa ordem.\n",
        "\n",
        "    Returns:\n",
        "      float: o valor da distância\n",
        "    \"\"\"\n",
        "    return np.sqrt((p2[0] - p1[0]) ** 2 + (p2[1] - p1[1]) ** 2)\n",
        "\n",
        "\n",
        "def closest_pair_of_points_slow(hull_one: list, hull_two: list) -> tuple:\n",
        "    \"\"\"Determina o par de pontos de aresta mais próximo de dois conjuntos de pontos.\n",
        "\n",
        "    Arguments:\n",
        "      hull_one: list com os pontos\n",
        "      hull_two: list com os pontos\n",
        "\n",
        "    Returns:\n",
        "      tuple: os dois pontos encontrados\n",
        "    \"\"\"\n",
        "    minimum_distance = None\n",
        "    p1 = None\n",
        "    p2 = None\n",
        "\n",
        "    for point_one in hull_one:\n",
        "        for point_two in hull_two:\n",
        "            distance = euclidean_distance(point_one, point_two)\n",
        "            if minimum_distance is None:\n",
        "                minimum_distance = distance\n",
        "                p1 = point_one\n",
        "                p2 = point_two\n",
        "            elif distance < minimum_distance:\n",
        "                minimum_distance = distance\n",
        "                p1 = point_one\n",
        "                p2 = point_two\n",
        "\n",
        "    return p1, p2"
      ],
      "metadata": {
        "id": "ZFQBPGxSxnn1"
      },
      "execution_count": 688,
      "outputs": []
    },
    {
      "cell_type": "markdown",
      "source": [
        "###4.2) Determinando a reta perpendicular à reta mais próxima no ponto médio"
      ],
      "metadata": {
        "id": "yBdPg08Y2TNo"
      }
    },
    {
      "cell_type": "code",
      "source": [
        "def median_point(p1: Point, p2: Point) -> Point:\n",
        "    \"\"\"Calcula o ponto médio entre dois pontos.\n",
        "\n",
        "    Arguments:\n",
        "      p1: Point a ser usado no cálculo\n",
        "      p2: Point a ser usado no cálculo\n",
        "\n",
        "    Returns:\n",
        "      Point: O ponto resultado\n",
        "    \"\"\"\n",
        "    return Point((p1.x + p2.x) / 2, (p1.y + p2.y) / 2)\n",
        "\n",
        "\n",
        "def perpendicular_line(l: Line, p: Point) -> tuple:\n",
        "    \"\"\"Determina a reta perpendicular a uma linha que intercepta em um ponto específico.\n",
        "\n",
        "    Arguments:\n",
        "      l: Line a ser comparada no cálculo\n",
        "      p: Point desejado para inteseção\n",
        "\n",
        "    Returns:\n",
        "      LineEquation: equação da linha perpendicular\n",
        "    \"\"\"\n",
        "    try:\n",
        "        gradient = (l.lhs.y - l.rhs.y) / (l.lhs.x - l.rhs.x)\n",
        "        offset = l.lhs.y - (gradient * l.lhs.x)\n",
        "        perpendicular_gradient = -1 * (1 / gradient)\n",
        "        perpendicular_offset = p.y - (perpendicular_gradient * p.x)\n",
        "        return LineEquation(\"y\", perpendicular_gradient, perpendicular_offset)\n",
        "    except ZeroDivisionError:\n",
        "        y_variation = l.lhs.y - l.rhs.y\n",
        "        x_variation = l.lhs.x - l.rhs.x\n",
        "\n",
        "        if x_variation == 0:\n",
        "            return LineEquation(\"y\", 0, p.y)\n",
        "        elif y_variation == 0:\n",
        "            return LineEquation(\"x\", 0, p.x)"
      ],
      "metadata": {
        "id": "Kr1VkyB_2PRO"
      },
      "execution_count": 689,
      "outputs": []
    },
    {
      "cell_type": "markdown",
      "source": [
        "###4.3) Exemplo de funcionamento do algoritmo"
      ],
      "metadata": {
        "id": "7x4IAvaF2uf2"
      }
    },
    {
      "cell_type": "code",
      "source": [
        "p1, p2 = closest_pair_of_points_slow(hullA, hullB)\n",
        "\n",
        "p1 = Point(p1)\n",
        "p2 = Point(p2)\n",
        "p3 = median_point(p1, p2)\n",
        "eq = perpendicular_line(Line(p1, p2, None), p3)\n",
        "\n",
        "print(f\"Ponto 1: {p1}\\nPonto 2: {p2}\\nPonto Médio: {p3}\\nEquação da linha perpendicular: {eq}\")"
      ],
      "metadata": {
        "colab": {
          "base_uri": "https://localhost:8080/"
        },
        "id": "5xDmSrgFlH2w",
        "outputId": "b61d491d-6b88-4f27-dae8-49a446c057f7"
      },
      "execution_count": 690,
      "outputs": [
        {
          "output_type": "stream",
          "name": "stdout",
          "text": [
            "Ponto 1: (27.32, 32.09)\n",
            "Ponto 2: (76.51, 33.74)\n",
            "Ponto Médio: (51.915000000000006, 32.915000000000006)\n",
            "Equação da linha perpendicular: y=-29.812121212121237x+1580.6112727272741\n"
          ]
        }
      ]
    },
    {
      "cell_type": "markdown",
      "source": [
        "##5) Classificador"
      ],
      "metadata": {
        "id": "Ann_QQGdAL4O"
      }
    },
    {
      "cell_type": "markdown",
      "source": [
        "###5.1) Determinando a classe dado um ponto e uma reta qualquer"
      ],
      "metadata": {
        "id": "wwLVLyieAg5A"
      }
    },
    {
      "cell_type": "code",
      "source": [
        "def determine_class(eq: LineEquation, p: Point) -> Union[bool, None]:\n",
        "    \"\"\"Determina a qual classe o ponto pertence.\n",
        "\n",
        "    Arguments:\n",
        "     eq: LineEquation, a equação da linha a ser comparada\n",
        "     p: Point a ser classificado\n",
        "\n",
        "    Returns:\n",
        "     bool | None : True se for de uma classe, False se for de outra, e None se for encima do ponto\n",
        "    \"\"\"\n",
        "    if eq.eixo == \"x\":\n",
        "        if p.x == eq.coef_linear:\n",
        "            return None\n",
        "        return p.x > eq.coef_linear\n",
        "    else:\n",
        "        y_eq = eq.coef_angular * p.x + eq.coef_linear\n",
        "        if p.y == y_eq:\n",
        "            return None\n",
        "        return p.y > y_eq"
      ],
      "metadata": {
        "id": "aJ0zTMhuAo9l"
      },
      "execution_count": 691,
      "outputs": []
    },
    {
      "cell_type": "code",
      "source": [
        "determine_class(eq, Point(50,40))"
      ],
      "metadata": {
        "colab": {
          "base_uri": "https://localhost:8080/"
        },
        "id": "Zw3iRr6MDSFC",
        "outputId": "6e1d3fdc-b47c-4bd1-b6e6-895e5a45b80c"
      },
      "execution_count": 692,
      "outputs": [
        {
          "output_type": "execute_result",
          "data": {
            "text/plain": [
              "False"
            ]
          },
          "metadata": {},
          "execution_count": 692
        }
      ]
    },
    {
      "cell_type": "markdown",
      "source": [
        "##6) Classificação"
      ],
      "metadata": {
        "id": "5faHrK34mn2G"
      }
    },
    {
      "cell_type": "markdown",
      "source": [
        "###6.1) Classe auxiliar para gerenciar os resultados de maneira mais simples"
      ],
      "metadata": {
        "id": "ABiHb9NkgPqG"
      }
    },
    {
      "cell_type": "code",
      "source": [
        "class ClassificationResult:\n",
        "    def __init__(\n",
        "        self,\n",
        "        is_separable: bool = False,\n",
        "        line_equation: LineEquation = None,\n",
        "        precisao: float = None,\n",
        "        revocacao: float = None,\n",
        "        f1_escore: float = None,\n",
        "        custom_reason: str = None,\n",
        "    ):\n",
        "        self.is_separable = is_separable\n",
        "        self.line_equation = line_equation\n",
        "        self.precisao = precisao\n",
        "        self.revocacao = revocacao\n",
        "        self.f1_escore = f1_escore\n",
        "        self.custom_reason = custom_reason\n",
        "\n",
        "    def __repr__(self):\n",
        "        if self.custom_reason is not None:\n",
        "            return f\"Resultado: Falha\\nMotivo: {self.custom_reason}\"\n",
        "        elif not self.is_separable:\n",
        "            return \"Resultado: Falha\\nMotivo: As envoltórias não são separáveis.\"\n",
        "        else:\n",
        "            return f\"Resultado: Sucesso\\nEquação da linha: {self.line_equation}\\nPrecisão: {self.precisao}\\nRevocação: {self.revocacao}\\nF1-escore: {self.f1_escore}\""
      ],
      "metadata": {
        "id": "ec_Jdbo7msRf"
      },
      "execution_count": 693,
      "outputs": []
    },
    {
      "cell_type": "markdown",
      "source": [
        "###6.2) Função genérica para treinamento e classificação de quaisquer bases"
      ],
      "metadata": {
        "id": "lqsB62PZl3E6"
      }
    },
    {
      "cell_type": "code",
      "source": [
        "# importado la encima\n",
        "# from sklearn.model_selection import train_test_split\n",
        "# from sklearn import metrics\n",
        "# import seaborn as sns"
      ],
      "metadata": {
        "id": "U9zmLUys4v56"
      },
      "execution_count": 694,
      "outputs": []
    },
    {
      "cell_type": "code",
      "source": [
        "def classify(\n",
        "    df: pd.DataFrame, class1: str, class2: str, attributeColumns: Tuple[int, int], classColumn: int\n",
        ") -> ClassificationResult:\n",
        "    \"\"\"Faz a classificação do dataframe usando as primitivas desenvolvidas acima.\n",
        "       Cria as envoltórias convexas de cada grupo, verifica a separabilidade linear\n",
        "       e calcula os valores da classificação caso necessário.\n",
        "\n",
        "    Args:\n",
        "        df (pd.DataFrame): o DataFrame a ser utilizado no algoritmo\n",
        "        group_1 (str): o nome da primeira classe a ser comparada\n",
        "        group_2 (str): o nome da segunda classe a ser comparada\n",
        "        columns (Tuple[int, int, int]): Uma tupla contendo: (coluna de atributos 1, coluna de atributos 2, coluna de classes)\n",
        "\n",
        "    Returns:\n",
        "        ClassificationResult: resultado da classificação\n",
        "    \"\"\"\n",
        "   \n",
        "    # copia local do dataframe\n",
        "    DF = df.copy()\n",
        "\n",
        "    # classes existentes no conjunto\n",
        "    # ordem de aparição\n",
        "    #classes = pd.unique(DF[DF.columns[-1]])\n",
        "\n",
        "    # classes que usaremos para fazer a classificação\n",
        "    #classes = classes[::len(classes) - 1]\n",
        "    classes = [class1, class2]\n",
        "\n",
        "    # removendo do dataframe classes que não serão utilizadas\n",
        "    DF = DF[DF[classColumn].isin(classes)].copy()\n",
        "\n",
        "    # transformando nomes de classes em números\n",
        "    #DF[DF.columns[-1]] = DF[DF.columns[-1]] .map(lambda x: 0 if x == classes[0] else 1 if x == classes[1] else -1)\n",
        "\n",
        "    # selecionando atributos que vamos usar no classificador\n",
        "    attributeColumns = list(attributeColumns)\n",
        "    X = DF[attributeColumns]\n",
        "\n",
        "    # selecionando coluna de classes\n",
        "    y = DF[classColumn]\n",
        "\n",
        "    # separando em conjuntos de treino e de teste\n",
        "    X_train, X_test, y_train, y_test = train_test_split(X,y, test_size=0.3)\n",
        "\n",
        "    # concatenando conjunto de treino para manipulação nos algoritmos\n",
        "    trainData = pd.concat([X_train, y_train], axis=1, join='inner')\n",
        "\n",
        "    # separando instâncias das classes para treino\n",
        "    whereClassIsA = trainData[classColumn] == classes[0]\n",
        "    whereClassIsB = trainData[classColumn] == classes[1]\n",
        "\n",
        "      #removemos a coluna de classe, visto que iremos separar em um df para cada classe\n",
        "    classA = trainData[whereClassIsA].drop(classColumn, axis=1)\n",
        "    classB = trainData[whereClassIsB].drop(classColumn, axis=1)\n",
        "\n",
        "      #transformamos as classes em listas de tuplas para iterar sobre nossos algoritmos\n",
        "    classA = list(classA.itertuples(index=False, name=None))\n",
        "    classB = list(classB.itertuples(index=False, name=None))\n",
        "\n",
        "    # envoltórias de conjunto de treino\n",
        "    hullA = grahamAlg(classA)\n",
        "    hullB = grahamAlg(classB)\n",
        "\n",
        "\n",
        "    # conferindo se dados são separáveis\n",
        "    isSeparable = separability(hullA, classA, hullB, classB)\n",
        "    \n",
        "    if not isSeparable:\n",
        "      plotBothHulls(hullA, classA, hullB, classB)\n",
        "      return ClassificationResult(is_separable=False)\n",
        "\n",
        "    #point p1 is always going to belong to hullA and the opposite for p2\n",
        "    p1, p2 = closest_pair_of_points_slow(hullA, hullB)\n",
        "\n",
        "\n",
        "\n",
        "    p1 = Point(p1)\n",
        "    p2 = Point(p2)\n",
        "\n",
        "    p3 = median_point(p1, p2)\n",
        "\n",
        "    # equação da linha para classificação\n",
        "    line_equation = perpendicular_line(Line(p1, p2, None), p3)\n",
        "\n",
        "    y1 = 1000*line_equation.coef_angular + line_equation.coef_linear\n",
        "    y2 = (-1000)*line_equation.coef_angular + line_equation.coef_linear\n",
        "\n",
        "    # plot do conjunto de treino\n",
        "    plt.plot((p1.x, p2.x),(p1.y, p2.y))\n",
        "    plt.plot((1000, -1000), (y1, y2))\n",
        "    plotBothHulls(hullA, classA, hullB, classB)\n",
        "\n",
        "    # transformando df de teste em tuplas\n",
        "    X_test_tuples = list(X_test.itertuples(index=False, name=None))\n",
        "\n",
        "    # lista com respostas de classificação\n",
        "    y_pred = []\n",
        "\n",
        "    # verificando se a classe A está acima da linha\n",
        "    # se True, a classeA está em cima\n",
        "    # se False, a classeA está embaixo\n",
        "    classAPosition = line_equation.determine_point_location(p1)\n",
        "    classBPosition = line_equation.determine_point_location(p2)\n",
        "\n",
        "    \n",
        "\n",
        "    # a cada item do df de teste\n",
        "    for i in X_test_tuples:\n",
        "      # caso o ponto analisado esteja no espaço de A, determinamos que seja classificado como A\n",
        "      if line_equation.determine_point_location(Point(i)) == classAPosition:\n",
        "        y_pred.append([classes[0]])\n",
        "      # caso o ponto analisado NÃO esteja no espaço de A, determinamos que seja classificado como B\n",
        "      elif line_equation.determine_point_location(Point(i)) == classBPosition:\n",
        "        y_pred.append([classes[1]])\n",
        "      #else:\n",
        "      # caso o ponto analisado esteja em cima da reta, definimos a flag -1\n",
        "        #y_pred.append([-1])\n",
        "\n",
        "    lixo, y_pred = np.unique(np.array(y_pred), return_inverse=True)\n",
        "    lixo, y_test = np.unique(y_test.values.reshape(-1,1), return_inverse=True)\n",
        "\n",
        "\n",
        "\n",
        "    #print(y_pred, \"\\n\", y_test)\n",
        "\n",
        "    #print(f\"Ponto 1: {p1}\\nPonto 2: {p2}\\nPonto Médio: {p3}\\nEquação da linha perpendicular: {line_equation}\")\n",
        "    precisao = metrics.precision_score(y_test, y_pred)\n",
        "    revocacao = metrics.recall_score(y_test, y_pred)\n",
        "    f1_escore = metrics.f1_score(y_test, y_pred)\n",
        "\n",
        "    #print(f\"Ponto 1: {p1}\\nPonto 2: {p2}\\nPonto Médio: {p3}\\nEquação da linha perpendicular: {eq}\")\n",
        "      \n",
        "\n",
        "    return ClassificationResult(\n",
        "        is_separable=True,\n",
        "        line_equation = line_equation,\n",
        "        precisao = precisao,\n",
        "        revocacao = revocacao,\n",
        "        f1_escore = f1_escore,\n",
        "    )\n"
      ],
      "metadata": {
        "id": "c3kFxLoGmCtW"
      },
      "execution_count": 695,
      "outputs": []
    },
    {
      "cell_type": "markdown",
      "source": [
        "##7) Exemplos com bases de dados reais"
      ],
      "metadata": {
        "id": "OTogDgq-lwOR"
      }
    },
    {
      "cell_type": "markdown",
      "source": [
        "###Exemplo 1 - [mammographic](https://sci2s.ugr.es/keel/dataset/data/classification/mammographic-names.txt)\n",
        "\n",
        "Essa base consiste de dados coletados no Instituto de Radiologia da Universidade de Erlangen-Nuremberg sobre a gravidade de uma lesão de massa mamográfica.\n",
        "\n",
        "Os dados foram separados em duas classes baseado na gravidade da lesão, tal que dois atributos foram escolhidos, que são a idade da paciente, e a classificação [BI-RADS](https://pt.wikipedia.org/wiki/BI-RADS) do exame.\n",
        "\n",
        "Os atributos são:\n",
        "\n",
        "0. Classificação BI-RADS [0,6]\n",
        "1. Idade [18,96]\n",
        "2. Forma [1,4]\n",
        "3. Margem [1,5]\n",
        "4. Densidade [1,4]\n",
        "5. Severidade(maligno ou benigno)(Representando as classes) {0, 1}"
      ],
      "metadata": {
        "id": "cSdWfZjSclDL"
      }
    },
    {
      "cell_type": "code",
      "source": [
        "a = pd.read_csv(\n",
        "    \"https://sci2s.ugr.es/keel/dataset/data/classification/mammographic.zip\",\n",
        "    header=None,\n",
        "    engine=\"python\",\n",
        "    skiprows=10,\n",
        ")\n",
        "\n",
        "a.head()"
      ],
      "metadata": {
        "colab": {
          "base_uri": "https://localhost:8080/",
          "height": 206
        },
        "id": "LfHx_XF-coCy",
        "outputId": "9365a46f-65ce-406a-c1bc-46dd87fbaa9c"
      },
      "execution_count": 696,
      "outputs": [
        {
          "output_type": "execute_result",
          "data": {
            "text/plain": [
              "   0   1  2  3  4  5\n",
              "0  5  67  3  5  3  1\n",
              "1  5  58  4  5  3  1\n",
              "2  4  28  1  1  3  0\n",
              "3  5  57  1  5  3  1\n",
              "4  5  76  1  4  3  1"
            ],
            "text/html": [
              "\n",
              "  <div id=\"df-a5cee27f-d26d-4d3b-8460-ca4c93cf7da4\">\n",
              "    <div class=\"colab-df-container\">\n",
              "      <div>\n",
              "<style scoped>\n",
              "    .dataframe tbody tr th:only-of-type {\n",
              "        vertical-align: middle;\n",
              "    }\n",
              "\n",
              "    .dataframe tbody tr th {\n",
              "        vertical-align: top;\n",
              "    }\n",
              "\n",
              "    .dataframe thead th {\n",
              "        text-align: right;\n",
              "    }\n",
              "</style>\n",
              "<table border=\"1\" class=\"dataframe\">\n",
              "  <thead>\n",
              "    <tr style=\"text-align: right;\">\n",
              "      <th></th>\n",
              "      <th>0</th>\n",
              "      <th>1</th>\n",
              "      <th>2</th>\n",
              "      <th>3</th>\n",
              "      <th>4</th>\n",
              "      <th>5</th>\n",
              "    </tr>\n",
              "  </thead>\n",
              "  <tbody>\n",
              "    <tr>\n",
              "      <th>0</th>\n",
              "      <td>5</td>\n",
              "      <td>67</td>\n",
              "      <td>3</td>\n",
              "      <td>5</td>\n",
              "      <td>3</td>\n",
              "      <td>1</td>\n",
              "    </tr>\n",
              "    <tr>\n",
              "      <th>1</th>\n",
              "      <td>5</td>\n",
              "      <td>58</td>\n",
              "      <td>4</td>\n",
              "      <td>5</td>\n",
              "      <td>3</td>\n",
              "      <td>1</td>\n",
              "    </tr>\n",
              "    <tr>\n",
              "      <th>2</th>\n",
              "      <td>4</td>\n",
              "      <td>28</td>\n",
              "      <td>1</td>\n",
              "      <td>1</td>\n",
              "      <td>3</td>\n",
              "      <td>0</td>\n",
              "    </tr>\n",
              "    <tr>\n",
              "      <th>3</th>\n",
              "      <td>5</td>\n",
              "      <td>57</td>\n",
              "      <td>1</td>\n",
              "      <td>5</td>\n",
              "      <td>3</td>\n",
              "      <td>1</td>\n",
              "    </tr>\n",
              "    <tr>\n",
              "      <th>4</th>\n",
              "      <td>5</td>\n",
              "      <td>76</td>\n",
              "      <td>1</td>\n",
              "      <td>4</td>\n",
              "      <td>3</td>\n",
              "      <td>1</td>\n",
              "    </tr>\n",
              "  </tbody>\n",
              "</table>\n",
              "</div>\n",
              "      <button class=\"colab-df-convert\" onclick=\"convertToInteractive('df-a5cee27f-d26d-4d3b-8460-ca4c93cf7da4')\"\n",
              "              title=\"Convert this dataframe to an interactive table.\"\n",
              "              style=\"display:none;\">\n",
              "        \n",
              "  <svg xmlns=\"http://www.w3.org/2000/svg\" height=\"24px\"viewBox=\"0 0 24 24\"\n",
              "       width=\"24px\">\n",
              "    <path d=\"M0 0h24v24H0V0z\" fill=\"none\"/>\n",
              "    <path d=\"M18.56 5.44l.94 2.06.94-2.06 2.06-.94-2.06-.94-.94-2.06-.94 2.06-2.06.94zm-11 1L8.5 8.5l.94-2.06 2.06-.94-2.06-.94L8.5 2.5l-.94 2.06-2.06.94zm10 10l.94 2.06.94-2.06 2.06-.94-2.06-.94-.94-2.06-.94 2.06-2.06.94z\"/><path d=\"M17.41 7.96l-1.37-1.37c-.4-.4-.92-.59-1.43-.59-.52 0-1.04.2-1.43.59L10.3 9.45l-7.72 7.72c-.78.78-.78 2.05 0 2.83L4 21.41c.39.39.9.59 1.41.59.51 0 1.02-.2 1.41-.59l7.78-7.78 2.81-2.81c.8-.78.8-2.07 0-2.86zM5.41 20L4 18.59l7.72-7.72 1.47 1.35L5.41 20z\"/>\n",
              "  </svg>\n",
              "      </button>\n",
              "      \n",
              "  <style>\n",
              "    .colab-df-container {\n",
              "      display:flex;\n",
              "      flex-wrap:wrap;\n",
              "      gap: 12px;\n",
              "    }\n",
              "\n",
              "    .colab-df-convert {\n",
              "      background-color: #E8F0FE;\n",
              "      border: none;\n",
              "      border-radius: 50%;\n",
              "      cursor: pointer;\n",
              "      display: none;\n",
              "      fill: #1967D2;\n",
              "      height: 32px;\n",
              "      padding: 0 0 0 0;\n",
              "      width: 32px;\n",
              "    }\n",
              "\n",
              "    .colab-df-convert:hover {\n",
              "      background-color: #E2EBFA;\n",
              "      box-shadow: 0px 1px 2px rgba(60, 64, 67, 0.3), 0px 1px 3px 1px rgba(60, 64, 67, 0.15);\n",
              "      fill: #174EA6;\n",
              "    }\n",
              "\n",
              "    [theme=dark] .colab-df-convert {\n",
              "      background-color: #3B4455;\n",
              "      fill: #D2E3FC;\n",
              "    }\n",
              "\n",
              "    [theme=dark] .colab-df-convert:hover {\n",
              "      background-color: #434B5C;\n",
              "      box-shadow: 0px 1px 3px 1px rgba(0, 0, 0, 0.15);\n",
              "      filter: drop-shadow(0px 1px 2px rgba(0, 0, 0, 0.3));\n",
              "      fill: #FFFFFF;\n",
              "    }\n",
              "  </style>\n",
              "\n",
              "      <script>\n",
              "        const buttonEl =\n",
              "          document.querySelector('#df-a5cee27f-d26d-4d3b-8460-ca4c93cf7da4 button.colab-df-convert');\n",
              "        buttonEl.style.display =\n",
              "          google.colab.kernel.accessAllowed ? 'block' : 'none';\n",
              "\n",
              "        async function convertToInteractive(key) {\n",
              "          const element = document.querySelector('#df-a5cee27f-d26d-4d3b-8460-ca4c93cf7da4');\n",
              "          const dataTable =\n",
              "            await google.colab.kernel.invokeFunction('convertToInteractive',\n",
              "                                                     [key], {});\n",
              "          if (!dataTable) return;\n",
              "\n",
              "          const docLinkHtml = 'Like what you see? Visit the ' +\n",
              "            '<a target=\"_blank\" href=https://colab.research.google.com/notebooks/data_table.ipynb>data table notebook</a>'\n",
              "            + ' to learn more about interactive tables.';\n",
              "          element.innerHTML = '';\n",
              "          dataTable['output_type'] = 'display_data';\n",
              "          await google.colab.output.renderOutput(dataTable, element);\n",
              "          const docLink = document.createElement('div');\n",
              "          docLink.innerHTML = docLinkHtml;\n",
              "          element.appendChild(docLink);\n",
              "        }\n",
              "      </script>\n",
              "    </div>\n",
              "  </div>\n",
              "  "
            ]
          },
          "metadata": {},
          "execution_count": 696
        }
      ]
    },
    {
      "cell_type": "markdown",
      "source": [
        "Ao explorar o dataframe, notamos que os valores usados para os atributos são discretos e em sua grande parte são apresentados em um intervalo pequeno. Por conta disso, dificilmente os dados irão apresentar separação, como iremos observar no pairplot a seguir."
      ],
      "metadata": {
        "id": "SpJcwb7ZlI2E"
      }
    },
    {
      "cell_type": "code",
      "source": [
        "sns.pairplot(a)"
      ],
      "metadata": {
        "id": "ZMVf4nk1mvOa"
      },
      "execution_count": null,
      "outputs": []
    },
    {
      "cell_type": "markdown",
      "source": [
        "Como é possível ver, os dados apresentam uma dispersão esperada para o contexto citado anteriormente. Portanto, temos que as classes não serão separaveis"
      ],
      "metadata": {
        "id": "svg1aQukm4z7"
      }
    },
    {
      "cell_type": "code",
      "source": [
        "classify(df=a, class1=0, class2=1, attributeColumns=(1, 0), classColumn=5)"
      ],
      "metadata": {
        "id": "IdBvR6wMjwVU"
      },
      "execution_count": null,
      "outputs": []
    },
    {
      "cell_type": "markdown",
      "source": [
        "###Exemplo 2 - [iris](https://sci2s.ugr.es/keel/dataset/data/classification/iris-names.txt)\n",
        "\n",
        "A seguinte base consiste de dados sobre plantas do gênero íris e é bastante usada como experimento de reconhecimento de padrões.\n",
        "\n",
        "As classes Iris-setosa e Iris-virginica foram usadas como base para o modelo, e a altura e largura das pétalas são os atributos de interesse.\n",
        "\n",
        "Os seus atributos são:\n",
        "\n",
        "0. Comprimento da Sépala [4.3, 7.9]\n",
        "1. Largura da Sépala [2.0, 4.4]\n",
        "2. Comprimento da Pétala [1.0, 6.9]\n",
        "3. Largura da Pétala [0.1, 2.5]\n",
        "4. Classe (Iris-setosa, Iris-versicolor, Iris-virginica)"
      ],
      "metadata": {
        "id": "cL-wJVfscrKG"
      }
    },
    {
      "cell_type": "code",
      "source": [
        "a = pd.read_csv(\n",
        "    \"https://sci2s.ugr.es/keel/dataset/data/classification/iris.zip\",\n",
        "    header=None,\n",
        "    engine=\"python\",\n",
        "    skiprows=9,\n",
        ")\n",
        "a.head()"
      ],
      "metadata": {
        "id": "YTkmIP4QFcU-"
      },
      "execution_count": null,
      "outputs": []
    },
    {
      "cell_type": "markdown",
      "source": [
        "Exibimos o pairplot para visualizar a distribuição dos dados."
      ],
      "metadata": {
        "id": "vogiJZktY0gg"
      }
    },
    {
      "cell_type": "code",
      "source": [
        "sns.pairplot(a)"
      ],
      "metadata": {
        "id": "NFeYn9mlY8ID"
      },
      "execution_count": null,
      "outputs": []
    },
    {
      "cell_type": "markdown",
      "source": [
        "É possível visualizar que existe uma certa separação entre as instâncias de dados apresentados em conjuntos, indicando a possível presença de diferenciação entre as classes.\n",
        "\n",
        "A fim de testarmos essa ideia, testamos classificar tomando como atributos para separação a Largura da Pétala (atributo 3) e o Comprimento da Pétala (atributo 2). Também vamos tomar como classes a serem classificadas a Iris-setosa e a Iris-versicolor"
      ],
      "metadata": {
        "id": "N4bLgrvfZFUV"
      }
    },
    {
      "cell_type": "code",
      "source": [
        "classify(df=a, class1=\" Iris-setosa\", class2=\" Iris-versicolor\", attributeColumns=(2, 3), classColumn=4)"
      ],
      "metadata": {
        "id": "CNY-nyd2csid"
      },
      "execution_count": null,
      "outputs": []
    },
    {
      "cell_type": "markdown",
      "source": [
        "###Exemplo 3 - [phoneme](https://sci2s.ugr.es/keel/dataset/data/classification/phoneme-names.txt)\n",
        "\n",
        "Essa base de dados consiste em sons fonéticos a fim de distinguir tais sons dentre nasais e orais.\n",
        "\n",
        "Os atributos existentes são:\n",
        "\n",
        "0. Fonema Aa (como a vogal em \"dark\") [-1.7, 4.107]\n",
        "1. Fonema Ao (como a primeira sílava de \"water\") [-1.327, 4.378]\n",
        "2. Fonema Dcl (como a consoante d em \"dark\") [-1.823, 3.199]\n",
        "3. Fonema Iy (como a vogal em \"she\") [-1.581, 2.826]\n",
        "4. Fonema Sh (como sh em \"she\") [-1.284, 2.719]\n",
        "5. Classe (som nasal e som oral) {0, 1}\n",
        "\n",
        "Os sons escolhidos foram **aa** (como a vogal em dark) e **iy** (como a vogal em she).\n",
        "\n",
        "Os sons parecem ser bem diferentes na pronúncia nasal e oral, mas como os dados não são linearmente separáveis, vemos um resultado inesperado.\n"
      ],
      "metadata": {
        "id": "U3SoEww6cuI7"
      }
    },
    {
      "cell_type": "code",
      "source": [
        "a = pd.read_csv(\n",
        "    \"https://sci2s.ugr.es/keel/dataset/data/classification/phoneme.zip\",\n",
        "    header=None,\n",
        "    engine=\"python\",\n",
        "    skiprows=10,\n",
        ")\n",
        "\n",
        "a.head()"
      ],
      "metadata": {
        "id": "5EEQE3tMaF64"
      },
      "execution_count": null,
      "outputs": []
    },
    {
      "cell_type": "markdown",
      "source": [
        "Para melhor visualização da distribuição dos dados, iremos usar um pairplot:"
      ],
      "metadata": {
        "id": "IDdADDqFbWCQ"
      }
    },
    {
      "cell_type": "code",
      "source": [
        "sns.pairplot(a)"
      ],
      "metadata": {
        "id": "ZGzj5sw5bDOk"
      },
      "execution_count": null,
      "outputs": []
    },
    {
      "cell_type": "markdown",
      "source": [
        "É possível notar que existe uma espécie de distribuição em X em alguns plots, podendo sugerir haver alguma separabilidade em classes das instâncias ali exibidas.\n",
        "\n",
        "Assim, tomamos os atributos Fonema Iy (atributo 3) e Fonema Sh (atributo 4) a fim de analisarmos melhor a hipótese em nossa classificação"
      ],
      "metadata": {
        "id": "X0k5w5G8bleo"
      }
    },
    {
      "cell_type": "code",
      "source": [
        "classify(df=a, class1=0, class2=1, attributeColumns=(3, 4), classColumn=5)"
      ],
      "metadata": {
        "id": "EOt4r-O2cvR6"
      },
      "execution_count": null,
      "outputs": []
    },
    {
      "cell_type": "markdown",
      "source": [
        "###Exemplo 4 - [newthyroid](https://sci2s.ugr.es/keel/dataset/data/classification/newthyroid-names.txt)\n",
        "\n",
        "Essa base contém dados sobre a tireóide de vários pacientes, e são divididos em três classes:\n",
        " - normal\n",
        " - [hipertieoidismo](https://pt.wikipedia.org/wiki/Hipertiroidismo)\n",
        " - [hipotiroidismo](https://pt.wikipedia.org/wiki/Hipotiroidismo)\n",
        "\n",
        "Além disso, a base contém valores de vários elementos químicos que foram encontrados nos pacientes.\n",
        "\n",
        "Para a análise, foram escolhidos os pacientes com hipotiroidismo e hipotireoidismo, comparando as quantidades de [TSH](https://pt.wikipedia.org/wiki/Horm%C3%B4nio_estimulante_da_tiroide) e [tiroxina](https://pt.wikipedia.org/wiki/Tiroxina) nos pacientes.\n",
        "\n",
        "..."
      ],
      "metadata": {
        "id": "eRy52dnccxL-"
      }
    },
    {
      "cell_type": "code",
      "source": [
        "a = pd.read_csv(\n",
        "    \"https://sci2s.ugr.es/keel/dataset/data/classification/newthyroid.zip\",\n",
        "    header=None,\n",
        "    engine=\"python\",\n",
        "    skiprows=10,\n",
        ")\n",
        "\n",
        "classify(df=a, class1=2, class2=3, attributeColumns=(1, 4), classColumn=5)"
      ],
      "metadata": {
        "id": "w_1Q8pi2cyR8"
      },
      "execution_count": null,
      "outputs": []
    },
    {
      "cell_type": "markdown",
      "source": [
        "###Exemplo 5 - [contraceptive](https://sci2s.ugr.es/keel/dataset/data/classification/contraceptive-names.txt)\n",
        "\n",
        "Essa base é sobre o uso de métodos contraceptivos em mulheres casadas que não estavam grávidas ou não sabiam se estavem. Os dados são da Pesquisa Nacional de Prevalência de Contraceptivos da Indonésia de 1987.\n",
        "\n",
        "Como existem várias variáveis categóricas nessa base como o nível de educação da esposa ou a quantidade de filhos, essa é uma oportunidade boa para ver como que o modelo se comporta.\n",
        "\n",
        "Foram escolhidos dados da classe 1 e 2 de contraceptivos, levando em consideração a idade da esposa e o nível de educação do marido.\n",
        "\n",
        "Concluimos que o modelo não consegue lidar bem com bases extremamente categóricas."
      ],
      "metadata": {
        "id": "UW8EtX6Bczme"
      }
    },
    {
      "cell_type": "code",
      "source": [
        "a = pd.read_csv(\n",
        "    \"https://sci2s.ugr.es/keel/dataset/data/classification/contraceptive.zip\",\n",
        "    header=None,\n",
        "    engine=\"python\",\n",
        "    skiprows=14,\n",
        ")\n",
        "\n",
        "classify(df=a, class1=1, class2=2, attributeColumns=(0, 2), classColumn = 9)"
      ],
      "metadata": {
        "id": "zsNrR0MYc1K_"
      },
      "execution_count": null,
      "outputs": []
    },
    {
      "cell_type": "markdown",
      "source": [
        "###Exemplo 6 - [appendicitis](https://sci2s.ugr.es/keel/dataset/data/classification/appendicitis-names.txt)\n",
        "\n",
        "Essa base contém os dados de 7 medidores definidos pelos médicos para definir se o paciente tem apendicite ou não.\n",
        "\n",
        "Para a análise, foram escolhidos os atributos 3 e 4 para comparação. O autor da base não explica o que esses atributos significam, mas podemos ver que eles podem ser relacionados, já que os dados não são linearmente separáveis e uma das classes é contida integralmente dentro da outra neste caso."
      ],
      "metadata": {
        "id": "3HKsXA5-c2bC"
      }
    },
    {
      "cell_type": "code",
      "source": [
        "a = pd.read_csv(\n",
        "    \"https://sci2s.ugr.es/keel/dataset/data/classification/appendicitis.zip\",\n",
        "    header=None,\n",
        "    engine=\"python\",\n",
        "    skiprows=12,\n",
        ")\n",
        "\n",
        "classify(df=a, class1=0, class2=1, attributeColumns=(4, 5), classColumn=7)"
      ],
      "metadata": {
        "id": "S7axtDsNc4LL"
      },
      "execution_count": null,
      "outputs": []
    },
    {
      "cell_type": "markdown",
      "source": [
        "###Exemplo 7 - [pima](https://sci2s.ugr.es/keel/dataset/data/classification/pima-names.txt)\n",
        "\n",
        "Essa base consiste de dados sobre os pimas e o estado da diabetes em seus corpos.\n",
        "\n",
        "Há vários atributos diferentes nessa base em que é possível fazer alguma relação. Foram escolhidos a pressão diastólica do sangue e o índice de massa corporal das pessoas.\n",
        "\n",
        "Isso nos leva a identificar que os dados não são linearmente separáveis, mas eles também são parcialmente independentes de classe, já que a pressão e o IMC costumam ser parecidos, independente se a pessoa é diabética ou não.\n",
        "\n",
        "Os atributos são: \n",
        "\n",
        "1. Preg = Number of times pregnant \n",
        "2. Plas = Plasma glucose concentration a 2 hours in an oral glucose tolerance test \n",
        "3. Pres = Diastolic blood pressure (mm Hg) \n",
        "4. Skin = Triceps skin fold thickness (mm) \n",
        "5. Insu = 2-Hour serum insulin (mu U/ml) \n",
        "6. Mass = Body mass index (weight in kg/(height in m)^2) \n",
        "7. Pedi = Diabetes pedigree function \n",
        "8. Age = Age (years)"
      ],
      "metadata": {
        "id": "tkst3p2mc5x_"
      }
    },
    {
      "cell_type": "code",
      "source": [
        "a = pd.read_csv(\n",
        "    \"https://sci2s.ugr.es/keel/dataset/data/classification/pima.zip\",\n",
        "    header=None,\n",
        "    engine=\"python\",\n",
        "    skiprows=13,\n",
        ")\n",
        "a.head()"
      ],
      "metadata": {
        "id": "Dr4f88EaVcti"
      },
      "execution_count": null,
      "outputs": []
    },
    {
      "cell_type": "markdown",
      "source": [
        "Quando visualizamos brevemente os dados, percebemos que algumas observações apresentam atributos com valor igual a 0. Esses valores nulos atribuídos muitas vezes não fazem sentido, uma vez que nas observações acima, é impossível uma pessoa apresentar uma dobra cutânea na região do triceps (atributo 4) igual a zero.\n",
        "\n",
        "Portanto, vamos alterar esses substituindo-os pela média do atributo."
      ],
      "metadata": {
        "id": "z6Dn-SJifsyT"
      }
    },
    {
      "cell_type": "code",
      "source": [
        "#substituindo valores para concentração de glicose no plasma sanguíneo\n",
        "a[1]=a[1].replace(0,a[1].mean())\n",
        "\n",
        "#substituindo valores para pressão diastolica\n",
        "a[2]=a[2].replace(0,a[2].mean())\n",
        "\n",
        "#substituindo valores para dobra cutanea do triceps\n",
        "a[3]=a[3].replace(0,a[3].mean())\n",
        "\n",
        "#substituindo valores para insulina em 2h de soro\n",
        "a[4]=a[4].replace(0,a[4].mean())\n",
        "\n",
        "#substituindo valores para indice de massa corpórea\n",
        "a[5]=a[5].replace(0,a[5].mean())\n",
        "\n",
        "#substituindo valores para grau de diabetes\n",
        "a[6]=a[6].replace(0,a[6].mean())"
      ],
      "metadata": {
        "id": "geejCWp2hLMG"
      },
      "execution_count": null,
      "outputs": []
    },
    {
      "cell_type": "markdown",
      "source": [
        "Vamos agora analisar um pairplot a fim de visualizar se existe alguma separação dos dados explícita."
      ],
      "metadata": {
        "id": "x-b3bxmHi0Nv"
      }
    },
    {
      "cell_type": "code",
      "source": [
        "#sns.pairplot(a)"
      ],
      "metadata": {
        "id": "HjVhE7xvizve"
      },
      "execution_count": null,
      "outputs": []
    },
    {
      "cell_type": "markdown",
      "source": [
        "Vemos que não aparenta existir uma correlação entre os atributos com possíveis classes diferentes existentes, visto que todos os pontos se entrelaçam. Dessa forma, vamos tomar como referência para a classificação um conjunto qualquer de atributos."
      ],
      "metadata": {
        "id": "dPtziS19jIBx"
      }
    },
    {
      "cell_type": "code",
      "source": [
        "classify(df=a, class1=\"tested_negative\", class2=\"tested_positive\", attributeColumns=(2, 3), classColumn=8)"
      ],
      "metadata": {
        "id": "dw3nWeYhc6Wp"
      },
      "execution_count": null,
      "outputs": []
    },
    {
      "cell_type": "markdown",
      "source": [
        "###Exemplo 8 - [saheart](https://sci2s.ugr.es/keel/dataset/data/classification/saheart-names.txt)\n",
        "\n",
        "A seguinte base possui dados de homens de uma região da África do Sul com alto risco de desenvolvimento de doenças no coração.\n",
        "\n",
        "Os dados são separados em duas classes: se possuem uma doença cardíaca coronária ou não.\n",
        "\n",
        "Dentre os atributos, tem vários dados relacionados, como o uso de tabaco, pressão do sangue, obesidade e o consumo de álcool.\n",
        "\n",
        "Para essa análise, foram levados em consideração a quantidade de [LDL](https://pt.wikipedia.org/wiki/Lipoprote%C3%ADna_de_baixa_densidade) e o nível de obesidade da pessoa.\n",
        "\n",
        "Como os atributos escolhidos acima são bem relacionados, temos que não há uma separabilidade linear entre as classes. Isso significa que esses atributos não contribuem tanto para o desenvolvimento da doença cardíaca nessa pesquisa."
      ],
      "metadata": {
        "id": "JGnRHLWCc7aV"
      }
    },
    {
      "cell_type": "code",
      "source": [
        "a = pd.read_csv(\n",
        "    \"https://sci2s.ugr.es/keel/dataset/data/classification/saheart.zip\",\n",
        "    header=None,\n",
        "    engine=\"python\",\n",
        "    skiprows=14,\n",
        ")\n",
        "\n",
        "classify(df=a, class1=0, class2=1, attributeColumns=(2, 6), classColumn=9)"
      ],
      "metadata": {
        "id": "Za3sH1cTc86n"
      },
      "execution_count": null,
      "outputs": []
    },
    {
      "cell_type": "markdown",
      "source": [
        "###Exemplo 9 - [E.coli](https://sci2s.ugr.es/keel/dataset/data/classification/ecoli-names.txt)\n",
        "\n",
        "A seguinte base possui dados sobre algumas bactérias E. coli e é utilizado principalmente para problemas onde é necessario realizar a previsão da localização da bacteria."
      ],
      "metadata": {
        "id": "yKAHmefCldhE"
      }
    },
    {
      "cell_type": "code",
      "source": [
        "a = pd.read_csv(\n",
        "    \"https://sci2s.ugr.es/keel/dataset/data/classification/ecoli.zip\",\n",
        "    header=None,\n",
        "    engine=\"python\",\n",
        "    skiprows=12,\n",
        ")\n",
        "\n",
        "a.head()"
      ],
      "metadata": {
        "id": "VcAEhJ1QKOTo"
      },
      "execution_count": null,
      "outputs": []
    },
    {
      "cell_type": "markdown",
      "source": [
        "Essa base apresenta como atributos:\n",
        "0. mcg: McGeoch's method for signal sequence recognition.\n",
        "1. gvh: von Heijne's method for signal sequence recognition.\n",
        "2. lip: von Heijne's Signal Peptidase II consensus sequence score. Binary attribute.\n",
        "3. chg: Presence of charge on N-terminus of predicted lipoproteins. Binary attribute.\n",
        "4. aac: score of discriminant analysis of the amino acid content of outer membrane and periplasmic proteins.\n",
        "5. alm1: score of the ALOM membrane spanning region prediction program.\n",
        "6. alm2: score of ALOM program after excluding putative cleavable signal regions from the sequence.\n",
        "7. Classe (cp: citoplasma, im: inner membrane, pp: periplasm, om: outer membrane, omL: outer membrane lipoprotein, im: inner membrane, imL: inner membrane lipoprotein)\n"
      ],
      "metadata": {
        "id": "5XqwUkdHmmEE"
      }
    },
    {
      "cell_type": "markdown",
      "source": [
        "Como feito anteriormente, iremos tomar como referência o resultado de um pairplot dos seus atributos para formar uma hipotese de existência de separabilidade entre classes."
      ],
      "metadata": {
        "id": "fCJkapfkntgp"
      }
    },
    {
      "cell_type": "code",
      "source": [
        "sns.pairplot(a)"
      ],
      "metadata": {
        "id": "esd9AT1TmVs3"
      },
      "execution_count": null,
      "outputs": []
    },
    {
      "cell_type": "code",
      "source": [],
      "metadata": {
        "id": "i4fccGgGq59T"
      },
      "execution_count": null,
      "outputs": []
    },
    {
      "cell_type": "markdown",
      "source": [
        "O pairplot apresenta alguns plots que possuem uma concentração de pontos em determinados locais. Após alguns testes realizados com diferentes classes e diferentes atributos selecionados, foi descoberto que utilizando os atributos mcg (atributo 0) e gvh (atributo 1) para as classes cytoplasm (cp) e outer membrane lipoprotein (omL), conseguimos obter uma separabilidade dos dados para algumas das amostras de treino possíveis."
      ],
      "metadata": {
        "id": "CV6yAI1eo72e"
      }
    },
    {
      "cell_type": "code",
      "source": [
        "classify(df=a, class1='cp', class2='omL', attributeColumns=(0, 1), classColumn=7)"
      ],
      "metadata": {
        "id": "mSWAl-p1nsRb"
      },
      "execution_count": null,
      "outputs": []
    },
    {
      "cell_type": "markdown",
      "source": [
        "###Exemplo 10 - [magic](https://sci2s.ugr.es/keel/dataset/data/classification/magic-names.txt)\n",
        "\n",
        "A base de dados que iremos utilizar contem dados gerados para simular o registro de particulas gamma de alta energia em um telescopio Cherenkov, isso em nível do mar"
      ],
      "metadata": {
        "id": "kW8y6plDsBYa"
      }
    },
    {
      "cell_type": "code",
      "source": [
        "a = pd.read_csv(\n",
        "    \"https://sci2s.ugr.es/keel/dataset/data/classification/magic.zip\",\n",
        "    header=None,\n",
        "    engine=\"python\",\n",
        "    skiprows=15,\n",
        ")\n",
        "\n",
        "a.head()"
      ],
      "metadata": {
        "id": "VSJdMOA-oQOE"
      },
      "execution_count": null,
      "outputs": []
    },
    {
      "cell_type": "code",
      "source": [
        "classify(df=a, class1='g', class2='h', attributeColumns=(0,1), classColumn=10)"
      ],
      "metadata": {
        "id": "7So0tXUvtRhB"
      },
      "execution_count": null,
      "outputs": []
    },
    {
      "cell_type": "code",
      "source": [],
      "metadata": {
        "id": "4k8CpWaqtb5G"
      },
      "execution_count": null,
      "outputs": []
    }
  ]
}